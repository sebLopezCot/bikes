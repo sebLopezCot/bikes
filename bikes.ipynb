{
 "cells": [
  {
   "cell_type": "code",
   "execution_count": 1,
   "id": "c8bdad37",
   "metadata": {},
   "outputs": [],
   "source": [
    "import numpy as np\n",
    "import matplotlib.pyplot as plt\n",
    "import pandas as pd\n",
    "import plotly.express as px"
   ]
  },
  {
   "cell_type": "markdown",
   "id": "165bdbef",
   "metadata": {},
   "source": [
    "### Exploring the Dataset"
   ]
  },
  {
   "cell_type": "code",
   "execution_count": 2,
   "id": "f602c0b9",
   "metadata": {},
   "outputs": [
    {
     "name": "stdout",
     "output_type": "stream",
     "text": [
      "201501-hubway-tripdata.csv\r\n",
      "201502-hubway-tripdata.csv\r\n",
      "201503-hubway-tripdata.csv\r\n",
      "201504-hubway-tripdata.csv\r\n",
      "201505-hubway-tripdata.csv\r\n",
      "201506-hubway-tripdata.csv\r\n",
      "201507-hubway-tripdata.csv\r\n",
      "201508-hubway-tripdata.csv\r\n",
      "201509-hubway-tripdata.csv\r\n",
      "201510-hubway-tripdata.csv\r\n"
     ]
    }
   ],
   "source": [
    "! ls /home/slcot/bikes/dataset/trips | head"
   ]
  },
  {
   "cell_type": "code",
   "execution_count": 3,
   "id": "840a7a92",
   "metadata": {},
   "outputs": [
    {
     "name": "stdout",
     "output_type": "stream",
     "text": [
      "current_bluebikes_stations.csv\r\n"
     ]
    }
   ],
   "source": [
    "! ls /home/slcot/bikes/dataset/stations"
   ]
  },
  {
   "cell_type": "code",
   "execution_count": 9,
   "id": "9baf4f42",
   "metadata": {},
   "outputs": [],
   "source": [
    "stations_df = pd.read_csv('dataset/stations/current_bluebikes_stations.csv', header=1)"
   ]
  },
  {
   "cell_type": "code",
   "execution_count": 10,
   "id": "0f28a321",
   "metadata": {},
   "outputs": [
    {
     "data": {
      "text/html": [
       "<div>\n",
       "<style scoped>\n",
       "    .dataframe tbody tr th:only-of-type {\n",
       "        vertical-align: middle;\n",
       "    }\n",
       "\n",
       "    .dataframe tbody tr th {\n",
       "        vertical-align: top;\n",
       "    }\n",
       "\n",
       "    .dataframe thead th {\n",
       "        text-align: right;\n",
       "    }\n",
       "</style>\n",
       "<table border=\"1\" class=\"dataframe\">\n",
       "  <thead>\n",
       "    <tr style=\"text-align: right;\">\n",
       "      <th></th>\n",
       "      <th>Number</th>\n",
       "      <th>Name</th>\n",
       "      <th>Latitude</th>\n",
       "      <th>Longitude</th>\n",
       "      <th>District</th>\n",
       "      <th>Public</th>\n",
       "      <th>Total docks</th>\n",
       "      <th>Deployment Year</th>\n",
       "    </tr>\n",
       "  </thead>\n",
       "  <tbody>\n",
       "    <tr>\n",
       "      <th>0</th>\n",
       "      <td>K32015</td>\n",
       "      <td>1200 Beacon St</td>\n",
       "      <td>42.344149</td>\n",
       "      <td>-71.114674</td>\n",
       "      <td>Brookline</td>\n",
       "      <td>Yes</td>\n",
       "      <td>15</td>\n",
       "      <td>2021.0</td>\n",
       "    </tr>\n",
       "    <tr>\n",
       "      <th>1</th>\n",
       "      <td>W32006</td>\n",
       "      <td>160 Arsenal</td>\n",
       "      <td>42.364664</td>\n",
       "      <td>-71.175694</td>\n",
       "      <td>Watertown</td>\n",
       "      <td>Yes</td>\n",
       "      <td>11</td>\n",
       "      <td>2021.0</td>\n",
       "    </tr>\n",
       "    <tr>\n",
       "      <th>2</th>\n",
       "      <td>A32019</td>\n",
       "      <td>175 N Harvard St</td>\n",
       "      <td>42.363796</td>\n",
       "      <td>-71.129164</td>\n",
       "      <td>Boston</td>\n",
       "      <td>Yes</td>\n",
       "      <td>18</td>\n",
       "      <td>2014.0</td>\n",
       "    </tr>\n",
       "    <tr>\n",
       "      <th>3</th>\n",
       "      <td>S32035</td>\n",
       "      <td>191 Beacon St</td>\n",
       "      <td>42.380323</td>\n",
       "      <td>-71.108786</td>\n",
       "      <td>Somerville</td>\n",
       "      <td>Yes</td>\n",
       "      <td>19</td>\n",
       "      <td>2018.0</td>\n",
       "    </tr>\n",
       "    <tr>\n",
       "      <th>4</th>\n",
       "      <td>C32094</td>\n",
       "      <td>2 Hummingbird Lane at Olmsted Green</td>\n",
       "      <td>42.288870</td>\n",
       "      <td>-71.095003</td>\n",
       "      <td>Boston</td>\n",
       "      <td>Yes</td>\n",
       "      <td>17</td>\n",
       "      <td>2020.0</td>\n",
       "    </tr>\n",
       "    <tr>\n",
       "      <th>...</th>\n",
       "      <td>...</td>\n",
       "      <td>...</td>\n",
       "      <td>...</td>\n",
       "      <td>...</td>\n",
       "      <td>...</td>\n",
       "      <td>...</td>\n",
       "      <td>...</td>\n",
       "      <td>...</td>\n",
       "    </tr>\n",
       "    <tr>\n",
       "      <th>440</th>\n",
       "      <td>N32005</td>\n",
       "      <td>West Newton</td>\n",
       "      <td>42.349601</td>\n",
       "      <td>-71.226275</td>\n",
       "      <td>Newton</td>\n",
       "      <td>Yes</td>\n",
       "      <td>15</td>\n",
       "      <td>2020.0</td>\n",
       "    </tr>\n",
       "    <tr>\n",
       "      <th>441</th>\n",
       "      <td>A32043</td>\n",
       "      <td>Western Ave at Richardson St</td>\n",
       "      <td>42.361787</td>\n",
       "      <td>-71.143931</td>\n",
       "      <td>Boston</td>\n",
       "      <td>Yes</td>\n",
       "      <td>19</td>\n",
       "      <td>2019.0</td>\n",
       "    </tr>\n",
       "    <tr>\n",
       "      <th>442</th>\n",
       "      <td>B32059</td>\n",
       "      <td>Whittier St Health Center</td>\n",
       "      <td>42.332863</td>\n",
       "      <td>-71.092189</td>\n",
       "      <td>Boston</td>\n",
       "      <td>Yes</td>\n",
       "      <td>19</td>\n",
       "      <td>2019.0</td>\n",
       "    </tr>\n",
       "    <tr>\n",
       "      <th>443</th>\n",
       "      <td>D32040</td>\n",
       "      <td>Williams St at Washington St</td>\n",
       "      <td>42.306539</td>\n",
       "      <td>-71.107669</td>\n",
       "      <td>Boston</td>\n",
       "      <td>Yes</td>\n",
       "      <td>23</td>\n",
       "      <td>2018.0</td>\n",
       "    </tr>\n",
       "    <tr>\n",
       "      <th>444</th>\n",
       "      <td>S32005</td>\n",
       "      <td>Wilson Square</td>\n",
       "      <td>42.385676</td>\n",
       "      <td>-71.114121</td>\n",
       "      <td>Somerville</td>\n",
       "      <td>Yes</td>\n",
       "      <td>15</td>\n",
       "      <td>2012.0</td>\n",
       "    </tr>\n",
       "  </tbody>\n",
       "</table>\n",
       "<p>445 rows × 8 columns</p>\n",
       "</div>"
      ],
      "text/plain": [
       "     Number                                 Name   Latitude  Longitude  \\\n",
       "0    K32015                       1200 Beacon St  42.344149 -71.114674   \n",
       "1    W32006                          160 Arsenal  42.364664 -71.175694   \n",
       "2    A32019                     175 N Harvard St  42.363796 -71.129164   \n",
       "3    S32035                        191 Beacon St  42.380323 -71.108786   \n",
       "4    C32094  2 Hummingbird Lane at Olmsted Green  42.288870 -71.095003   \n",
       "..      ...                                  ...        ...        ...   \n",
       "440  N32005                          West Newton  42.349601 -71.226275   \n",
       "441  A32043         Western Ave at Richardson St  42.361787 -71.143931   \n",
       "442  B32059            Whittier St Health Center  42.332863 -71.092189   \n",
       "443  D32040         Williams St at Washington St  42.306539 -71.107669   \n",
       "444  S32005                        Wilson Square  42.385676 -71.114121   \n",
       "\n",
       "       District Public  Total docks  Deployment Year  \n",
       "0     Brookline    Yes           15           2021.0  \n",
       "1     Watertown    Yes           11           2021.0  \n",
       "2        Boston    Yes           18           2014.0  \n",
       "3    Somerville    Yes           19           2018.0  \n",
       "4        Boston    Yes           17           2020.0  \n",
       "..          ...    ...          ...              ...  \n",
       "440      Newton    Yes           15           2020.0  \n",
       "441      Boston    Yes           19           2019.0  \n",
       "442      Boston    Yes           19           2019.0  \n",
       "443      Boston    Yes           23           2018.0  \n",
       "444  Somerville    Yes           15           2012.0  \n",
       "\n",
       "[445 rows x 8 columns]"
      ]
     },
     "execution_count": 10,
     "metadata": {},
     "output_type": "execute_result"
    }
   ],
   "source": [
    "stations_df"
   ]
  },
  {
   "cell_type": "code",
   "execution_count": 6,
   "id": "5c57a6b8",
   "metadata": {},
   "outputs": [],
   "source": [
    "example_trip_df = pd.read_csv('dataset/trips/201505-hubway-tripdata.csv')"
   ]
  },
  {
   "cell_type": "code",
   "execution_count": 7,
   "id": "9e2379ac",
   "metadata": {},
   "outputs": [
    {
     "data": {
      "text/html": [
       "<div>\n",
       "<style scoped>\n",
       "    .dataframe tbody tr th:only-of-type {\n",
       "        vertical-align: middle;\n",
       "    }\n",
       "\n",
       "    .dataframe tbody tr th {\n",
       "        vertical-align: top;\n",
       "    }\n",
       "\n",
       "    .dataframe thead th {\n",
       "        text-align: right;\n",
       "    }\n",
       "</style>\n",
       "<table border=\"1\" class=\"dataframe\">\n",
       "  <thead>\n",
       "    <tr style=\"text-align: right;\">\n",
       "      <th></th>\n",
       "      <th>tripduration</th>\n",
       "      <th>starttime</th>\n",
       "      <th>stoptime</th>\n",
       "      <th>start station id</th>\n",
       "      <th>start station name</th>\n",
       "      <th>start station latitude</th>\n",
       "      <th>start station longitude</th>\n",
       "      <th>end station id</th>\n",
       "      <th>end station name</th>\n",
       "      <th>end station latitude</th>\n",
       "      <th>end station longitude</th>\n",
       "      <th>bikeid</th>\n",
       "      <th>usertype</th>\n",
       "      <th>birth year</th>\n",
       "      <th>gender</th>\n",
       "    </tr>\n",
       "  </thead>\n",
       "  <tbody>\n",
       "    <tr>\n",
       "      <th>0</th>\n",
       "      <td>909</td>\n",
       "      <td>2015-05-01 00:01:12</td>\n",
       "      <td>2015-05-01 00:16:21</td>\n",
       "      <td>115</td>\n",
       "      <td>Porter Square Station</td>\n",
       "      <td>42.387995</td>\n",
       "      <td>-71.119084</td>\n",
       "      <td>74</td>\n",
       "      <td>Harvard Square at Mass Ave/ Dunster</td>\n",
       "      <td>42.373268</td>\n",
       "      <td>-71.118579</td>\n",
       "      <td>751</td>\n",
       "      <td>Subscriber</td>\n",
       "      <td>\\N</td>\n",
       "      <td>0</td>\n",
       "    </tr>\n",
       "    <tr>\n",
       "      <th>1</th>\n",
       "      <td>227</td>\n",
       "      <td>2015-05-01 00:04:32</td>\n",
       "      <td>2015-05-01 00:08:19</td>\n",
       "      <td>74</td>\n",
       "      <td>Harvard Square at Mass Ave/ Dunster</td>\n",
       "      <td>42.373268</td>\n",
       "      <td>-71.118579</td>\n",
       "      <td>104</td>\n",
       "      <td>Harvard University Radcliffe Quadrangle at She...</td>\n",
       "      <td>42.380287</td>\n",
       "      <td>-71.125107</td>\n",
       "      <td>692</td>\n",
       "      <td>Subscriber</td>\n",
       "      <td>1994</td>\n",
       "      <td>1</td>\n",
       "    </tr>\n",
       "    <tr>\n",
       "      <th>2</th>\n",
       "      <td>465</td>\n",
       "      <td>2015-05-01 00:06:32</td>\n",
       "      <td>2015-05-01 00:14:17</td>\n",
       "      <td>74</td>\n",
       "      <td>Harvard Square at Mass Ave/ Dunster</td>\n",
       "      <td>42.373268</td>\n",
       "      <td>-71.118579</td>\n",
       "      <td>75</td>\n",
       "      <td>Lafayette Square at Mass Ave / Main St / Colum...</td>\n",
       "      <td>42.363465</td>\n",
       "      <td>-71.100573</td>\n",
       "      <td>478</td>\n",
       "      <td>Subscriber</td>\n",
       "      <td>1985</td>\n",
       "      <td>2</td>\n",
       "    </tr>\n",
       "    <tr>\n",
       "      <th>3</th>\n",
       "      <td>462</td>\n",
       "      <td>2015-05-01 00:07:56</td>\n",
       "      <td>2015-05-01 00:15:38</td>\n",
       "      <td>36</td>\n",
       "      <td>Boston Public Library - 700 Boylston St.</td>\n",
       "      <td>42.349673</td>\n",
       "      <td>-71.077303</td>\n",
       "      <td>45</td>\n",
       "      <td>Yawkey Way at Boylston St.</td>\n",
       "      <td>42.344706</td>\n",
       "      <td>-71.097515</td>\n",
       "      <td>419</td>\n",
       "      <td>Customer</td>\n",
       "      <td>1981</td>\n",
       "      <td>1</td>\n",
       "    </tr>\n",
       "    <tr>\n",
       "      <th>4</th>\n",
       "      <td>7024</td>\n",
       "      <td>2015-05-01 00:11:09</td>\n",
       "      <td>2015-05-01 02:08:13</td>\n",
       "      <td>9</td>\n",
       "      <td>Agganis Arena - 925 Comm Ave.</td>\n",
       "      <td>42.351246</td>\n",
       "      <td>-71.115639</td>\n",
       "      <td>10</td>\n",
       "      <td>B.U. Central - 725 Comm. Ave.</td>\n",
       "      <td>42.350406</td>\n",
       "      <td>-71.108279</td>\n",
       "      <td>110</td>\n",
       "      <td>Subscriber</td>\n",
       "      <td>\\N</td>\n",
       "      <td>0</td>\n",
       "    </tr>\n",
       "    <tr>\n",
       "      <th>...</th>\n",
       "      <td>...</td>\n",
       "      <td>...</td>\n",
       "      <td>...</td>\n",
       "      <td>...</td>\n",
       "      <td>...</td>\n",
       "      <td>...</td>\n",
       "      <td>...</td>\n",
       "      <td>...</td>\n",
       "      <td>...</td>\n",
       "      <td>...</td>\n",
       "      <td>...</td>\n",
       "      <td>...</td>\n",
       "      <td>...</td>\n",
       "      <td>...</td>\n",
       "      <td>...</td>\n",
       "    </tr>\n",
       "    <tr>\n",
       "      <th>149138</th>\n",
       "      <td>466</td>\n",
       "      <td>2015-05-31 23:41:45</td>\n",
       "      <td>2015-05-31 23:49:31</td>\n",
       "      <td>91</td>\n",
       "      <td>One Kendall Square at Hampshire St / Portland St</td>\n",
       "      <td>42.366277</td>\n",
       "      <td>-71.091690</td>\n",
       "      <td>84</td>\n",
       "      <td>CambridgeSide Galleria - CambridgeSide PL at L...</td>\n",
       "      <td>42.366981</td>\n",
       "      <td>-71.076472</td>\n",
       "      <td>277</td>\n",
       "      <td>Subscriber</td>\n",
       "      <td>\\N</td>\n",
       "      <td>0</td>\n",
       "    </tr>\n",
       "    <tr>\n",
       "      <th>149139</th>\n",
       "      <td>662</td>\n",
       "      <td>2015-05-31 23:42:04</td>\n",
       "      <td>2015-05-31 23:53:07</td>\n",
       "      <td>67</td>\n",
       "      <td>MIT at Mass Ave / Amherst St</td>\n",
       "      <td>42.358100</td>\n",
       "      <td>-71.093198</td>\n",
       "      <td>87</td>\n",
       "      <td>Harvard University Housing - 115 Putnam Ave at...</td>\n",
       "      <td>42.366621</td>\n",
       "      <td>-71.114214</td>\n",
       "      <td>903</td>\n",
       "      <td>Subscriber</td>\n",
       "      <td>1992</td>\n",
       "      <td>2</td>\n",
       "    </tr>\n",
       "    <tr>\n",
       "      <th>149140</th>\n",
       "      <td>331</td>\n",
       "      <td>2015-05-31 23:46:31</td>\n",
       "      <td>2015-05-31 23:52:03</td>\n",
       "      <td>43</td>\n",
       "      <td>Rowes Wharf - Atlantic Ave</td>\n",
       "      <td>42.357143</td>\n",
       "      <td>-71.050699</td>\n",
       "      <td>48</td>\n",
       "      <td>Post Office Square</td>\n",
       "      <td>42.356755</td>\n",
       "      <td>-71.055407</td>\n",
       "      <td>617</td>\n",
       "      <td>Subscriber</td>\n",
       "      <td>\\N</td>\n",
       "      <td>0</td>\n",
       "    </tr>\n",
       "    <tr>\n",
       "      <th>149141</th>\n",
       "      <td>331</td>\n",
       "      <td>2015-05-31 23:46:32</td>\n",
       "      <td>2015-05-31 23:52:03</td>\n",
       "      <td>43</td>\n",
       "      <td>Rowes Wharf - Atlantic Ave</td>\n",
       "      <td>42.357143</td>\n",
       "      <td>-71.050699</td>\n",
       "      <td>48</td>\n",
       "      <td>Post Office Square</td>\n",
       "      <td>42.356755</td>\n",
       "      <td>-71.055407</td>\n",
       "      <td>594</td>\n",
       "      <td>Subscriber</td>\n",
       "      <td>\\N</td>\n",
       "      <td>0</td>\n",
       "    </tr>\n",
       "    <tr>\n",
       "      <th>149142</th>\n",
       "      <td>309</td>\n",
       "      <td>2015-05-31 23:46:46</td>\n",
       "      <td>2015-05-31 23:51:55</td>\n",
       "      <td>43</td>\n",
       "      <td>Rowes Wharf - Atlantic Ave</td>\n",
       "      <td>42.357143</td>\n",
       "      <td>-71.050699</td>\n",
       "      <td>48</td>\n",
       "      <td>Post Office Square</td>\n",
       "      <td>42.356755</td>\n",
       "      <td>-71.055407</td>\n",
       "      <td>199</td>\n",
       "      <td>Subscriber</td>\n",
       "      <td>\\N</td>\n",
       "      <td>0</td>\n",
       "    </tr>\n",
       "  </tbody>\n",
       "</table>\n",
       "<p>149143 rows × 15 columns</p>\n",
       "</div>"
      ],
      "text/plain": [
       "        tripduration            starttime             stoptime  \\\n",
       "0                909  2015-05-01 00:01:12  2015-05-01 00:16:21   \n",
       "1                227  2015-05-01 00:04:32  2015-05-01 00:08:19   \n",
       "2                465  2015-05-01 00:06:32  2015-05-01 00:14:17   \n",
       "3                462  2015-05-01 00:07:56  2015-05-01 00:15:38   \n",
       "4               7024  2015-05-01 00:11:09  2015-05-01 02:08:13   \n",
       "...              ...                  ...                  ...   \n",
       "149138           466  2015-05-31 23:41:45  2015-05-31 23:49:31   \n",
       "149139           662  2015-05-31 23:42:04  2015-05-31 23:53:07   \n",
       "149140           331  2015-05-31 23:46:31  2015-05-31 23:52:03   \n",
       "149141           331  2015-05-31 23:46:32  2015-05-31 23:52:03   \n",
       "149142           309  2015-05-31 23:46:46  2015-05-31 23:51:55   \n",
       "\n",
       "        start station id                                start station name  \\\n",
       "0                    115                             Porter Square Station   \n",
       "1                     74               Harvard Square at Mass Ave/ Dunster   \n",
       "2                     74               Harvard Square at Mass Ave/ Dunster   \n",
       "3                     36          Boston Public Library - 700 Boylston St.   \n",
       "4                      9                     Agganis Arena - 925 Comm Ave.   \n",
       "...                  ...                                               ...   \n",
       "149138                91  One Kendall Square at Hampshire St / Portland St   \n",
       "149139                67                      MIT at Mass Ave / Amherst St   \n",
       "149140                43                        Rowes Wharf - Atlantic Ave   \n",
       "149141                43                        Rowes Wharf - Atlantic Ave   \n",
       "149142                43                        Rowes Wharf - Atlantic Ave   \n",
       "\n",
       "        start station latitude  start station longitude  end station id  \\\n",
       "0                    42.387995               -71.119084              74   \n",
       "1                    42.373268               -71.118579             104   \n",
       "2                    42.373268               -71.118579              75   \n",
       "3                    42.349673               -71.077303              45   \n",
       "4                    42.351246               -71.115639              10   \n",
       "...                        ...                      ...             ...   \n",
       "149138               42.366277               -71.091690              84   \n",
       "149139               42.358100               -71.093198              87   \n",
       "149140               42.357143               -71.050699              48   \n",
       "149141               42.357143               -71.050699              48   \n",
       "149142               42.357143               -71.050699              48   \n",
       "\n",
       "                                         end station name  \\\n",
       "0                     Harvard Square at Mass Ave/ Dunster   \n",
       "1       Harvard University Radcliffe Quadrangle at She...   \n",
       "2       Lafayette Square at Mass Ave / Main St / Colum...   \n",
       "3                              Yawkey Way at Boylston St.   \n",
       "4                           B.U. Central - 725 Comm. Ave.   \n",
       "...                                                   ...   \n",
       "149138  CambridgeSide Galleria - CambridgeSide PL at L...   \n",
       "149139  Harvard University Housing - 115 Putnam Ave at...   \n",
       "149140                                 Post Office Square   \n",
       "149141                                 Post Office Square   \n",
       "149142                                 Post Office Square   \n",
       "\n",
       "        end station latitude  end station longitude  bikeid    usertype  \\\n",
       "0                  42.373268             -71.118579     751  Subscriber   \n",
       "1                  42.380287             -71.125107     692  Subscriber   \n",
       "2                  42.363465             -71.100573     478  Subscriber   \n",
       "3                  42.344706             -71.097515     419    Customer   \n",
       "4                  42.350406             -71.108279     110  Subscriber   \n",
       "...                      ...                    ...     ...         ...   \n",
       "149138             42.366981             -71.076472     277  Subscriber   \n",
       "149139             42.366621             -71.114214     903  Subscriber   \n",
       "149140             42.356755             -71.055407     617  Subscriber   \n",
       "149141             42.356755             -71.055407     594  Subscriber   \n",
       "149142             42.356755             -71.055407     199  Subscriber   \n",
       "\n",
       "       birth year  gender  \n",
       "0              \\N       0  \n",
       "1            1994       1  \n",
       "2            1985       2  \n",
       "3            1981       1  \n",
       "4              \\N       0  \n",
       "...           ...     ...  \n",
       "149138         \\N       0  \n",
       "149139       1992       2  \n",
       "149140         \\N       0  \n",
       "149141         \\N       0  \n",
       "149142         \\N       0  \n",
       "\n",
       "[149143 rows x 15 columns]"
      ]
     },
     "execution_count": 7,
     "metadata": {},
     "output_type": "execute_result"
    }
   ],
   "source": [
    "example_trip_df"
   ]
  },
  {
   "cell_type": "code",
   "execution_count": 24,
   "id": "a77e72ca",
   "metadata": {},
   "outputs": [
    {
     "data": {
      "application/vnd.plotly.v1+json": {
       "config": {
        "plotlyServerURL": "https://plot.ly"
       },
       "data": [
        {
         "customdata": [
          [
           "K32015",
           15,
           2021,
           "Brookline"
          ],
          [
           "W32006",
           11,
           2021,
           "Watertown"
          ],
          [
           "A32019",
           18,
           2014,
           "Boston"
          ],
          [
           "S32035",
           19,
           2018,
           "Somerville"
          ],
          [
           "C32094",
           17,
           2020,
           "Boston"
          ],
          [
           "S32023",
           15,
           2018,
           "Somerville"
          ],
          [
           "M32026",
           23,
           2013,
           "Cambridge"
          ],
          [
           "C32106",
           18,
           2021,
           "Boston"
          ],
          [
           "C32105",
           18,
           2021,
           "Boston"
          ],
          [
           "C32091",
           19,
           2020,
           "Boston"
          ],
          [
           "M32054",
           25,
           2018,
           "Cambridge"
          ],
          [
           "V32001",
           15,
           2019,
           "Everett"
          ],
          [
           "B32060",
           16,
           2019,
           "Boston"
          ],
          [
           "M32060",
           19,
           2018,
           "Cambridge"
          ],
          [
           "M32064",
           19,
           2019,
           "Cambridge"
          ],
          [
           "M32058",
           27,
           2018,
           "Cambridge"
          ],
          [
           "H32006",
           11,
           2021,
           "Chelsea"
          ],
          [
           "M32073",
           19,
           2021,
           "Cambridge"
          ],
          [
           "C32098",
           0,
           2021,
           "Boston"
          ],
          [
           "C32065",
           14,
           2019,
           "Boston"
          ],
          [
           "A32054",
           19,
           2022,
           "Boston"
          ],
          [
           "A32032",
           15,
           2016,
           "Boston"
          ],
          [
           "C32061",
           15,
           2019,
           "Boston"
          ],
          [
           "M32046",
           17,
           2016,
           "Cambridge"
          ],
          [
           "M32033",
           23,
           2014,
           "Cambridge"
          ],
          [
           "C32079",
           15,
           2019,
           "Boston"
          ],
          [
           "C32101",
           19,
           2021,
           "Boston"
          ],
          [
           "M32059",
           19,
           2018,
           "Cambridge"
          ],
          [
           "M32037",
           19,
           2012,
           "Cambridge"
          ],
          [
           "C32012",
           15,
           2013,
           "Boston"
          ],
          [
           "B32004",
           23,
           2011,
           "Boston"
          ],
          [
           "D32004",
           31,
           2011,
           "Boston"
          ],
          [
           "C32048",
           15,
           2018,
           "Boston"
          ],
          [
           "W32004",
           11,
           2020,
           "Watertown"
          ],
          [
           "C32062",
           15,
           2019,
           "Boston"
          ],
          [
           "S32018",
           15,
           2018,
           "Somerville"
          ],
          [
           "N32015",
           15,
           2021,
           "Newton"
          ],
          [
           "A32003",
           11,
           2011,
           "Boston"
          ],
          [
           "C32003",
           19,
           2011,
           "Boston"
          ],
          [
           "N32003",
           11,
           2020,
           "Newton"
          ],
          [
           "S32007",
           19,
           2012,
           "Somerville"
          ],
          [
           "B32055",
           15,
           2018,
           "Boston"
          ],
          [
           "N32012",
           15,
           2021,
           "Newton"
          ],
          [
           "D32024",
           19,
           2013,
           "Boston"
          ],
          [
           "B32016",
           19,
           2011,
           "Boston"
          ],
          [
           "K32002",
           15,
           2012,
           "Brookline"
          ],
          [
           "S32003",
           19,
           2012,
           "Somerville"
          ],
          [
           "C32059",
           15,
           2018,
           "Boston"
          ],
          [
           "C32095",
           19,
           2021,
           "Boston"
          ],
          [
           "H32002",
           11,
           2021,
           "Chelsea"
          ],
          [
           "A32028",
           15,
           2016,
           "Boston"
          ],
          [
           "A32039",
           17,
           2018,
           "Boston"
          ],
          [
           "M32067",
           19,
           2019,
           "Cambridge"
          ],
          [
           "M32027",
           19,
           2013,
           "Cambridge"
          ],
          [
           "D32050",
           15,
           2019,
           "Boston"
          ],
          [
           "C32044",
           19,
           2018,
           "Boston"
          ],
          [
           "C32092",
           18,
           2020,
           "Boston"
          ],
          [
           "B32057",
           15,
           2018,
           "Boston"
          ],
          [
           "B32008",
           25,
           2011,
           "Boston"
          ],
          [
           "N32009",
           17,
           2021,
           "Newton"
          ],
          [
           "D32018",
           23,
           2012,
           "Boston"
          ],
          [
           "A32036",
           15,
           2016,
           "Boston"
          ],
          [
           "A32045",
           7,
           2019,
           "Boston"
          ],
          [
           "C32002",
           19,
           2019,
           "Boston"
          ],
          [
           "B32031",
           15,
           2016,
           "Boston"
          ],
          [
           "D32007",
           31,
           2011,
           "Boston"
          ],
          [
           "D32013",
           15,
           2011,
           "Boston"
          ],
          [
           "D32055",
           23,
           2013,
           "Boston"
          ],
          [
           "D32046",
           19,
           2018,
           "Boston"
          ],
          [
           "C32008",
           3,
           2011,
           "Boston"
          ],
          [
           "B32034",
           15,
           2018,
           "Boston"
          ],
          [
           "B32018",
           15,
           2011,
           "Boston"
          ],
          [
           "B32013",
           15,
           2011,
           "Boston"
          ],
          [
           "D32058",
           19,
           2022,
           "Boston"
          ],
          [
           "D32028",
           17,
           2015,
           "Boston"
          ],
          [
           "A32005",
           15,
           2011,
           "Boston"
          ],
          [
           "M32082",
           19,
           2022,
           "Cambridge"
          ],
          [
           "A32047",
           15,
           2020,
           "Boston"
          ],
          [
           "V32011",
           15,
           2019,
           "Everett"
          ],
          [
           "S32016",
           19,
           2018,
           "Somerville"
          ],
          [
           "H32004",
           11,
           2021,
           "Chelsea"
          ],
          [
           "L32004",
           11,
           2020,
           "Arlington"
          ],
          [
           "V32004",
           15,
           2019,
           "Everett"
          ],
          [
           "V32008",
           14,
           2019,
           "Everett"
          ],
          [
           "S32014",
           19,
           2016,
           "Somerville"
          ],
          [
           "K32005",
           15,
           2016,
           "Brookline"
          ],
          [
           "K32003",
           19,
           2012,
           "Brookline"
          ],
          [
           "A32023",
           23,
           2015,
           "Boston"
          ],
          [
           "B32020",
           15,
           2013,
           "Boston"
          ],
          [
           "N32011",
           12,
           2021,
           "Newton"
          ],
          [
           "M32077",
           23,
           2021,
           "Cambridge"
          ],
          [
           "M32052",
           19,
           2017,
           "Cambridge"
          ],
          [
           "M32013",
           19,
           2012,
           "Cambridge"
          ],
          [
           "M32007",
           15,
           2012,
           "Cambridge"
          ],
          [
           "D32000",
           15,
           2011,
           "Boston"
          ],
          [
           "M32019",
           15,
           2012,
           "Cambridge"
          ],
          [
           "A32046",
           18,
           2020,
           "Boston"
          ],
          [
           "H32001",
           12,
           2021,
           "Chelsea"
          ],
          [
           "C32088",
           15,
           2019,
           "Boston"
          ],
          [
           "M32012",
           17,
           2012,
           "Cambridge"
          ],
          [
           "M32011",
           19,
           2012,
           "Cambridge"
          ],
          [
           "A32041",
           15,
           2019,
           "Boston"
          ],
          [
           "N32018",
           11,
           2022,
           "Newton"
          ],
          [
           "C32086",
           19,
           2019,
           "Boston"
          ],
          [
           "E32008",
           15,
           2018,
           "Boston"
          ],
          [
           "C32085",
           19,
           2019,
           "Boston"
          ],
          [
           "N32000",
           11,
           2020,
           "Newton"
          ],
          [
           "D32016",
           19,
           2011,
           "Boston"
          ],
          [
           "D32039",
           23,
           2018,
           "Boston"
          ],
          [
           "H32003",
           11,
           2021,
           "Chelsea"
          ],
          [
           "V32009",
           15,
           2019,
           "Everett"
          ],
          [
           "H32005",
           11,
           2021,
           "Chelsea"
          ],
          [
           "M32049",
           23,
           2016,
           "Cambridge"
          ],
          [
           "D32015",
           19,
           2011,
           "Boston"
          ],
          [
           "D32019",
           19,
           2012,
           "Boston"
          ],
          [
           "B32005",
           19,
           2011,
           "Boston"
          ],
          [
           "C32099",
           19,
           2021,
           "Boston"
          ],
          [
           "S32010",
           15,
           2013,
           "Somerville"
          ],
          [
           "D32047",
           19,
           2019,
           "Boston"
          ],
          [
           "C32104",
           16,
           2021,
           "Boston"
          ],
          [
           "B32035",
           15,
           2018,
           "Boston"
          ],
          [
           "D32057",
           18,
           2021,
           "Boston"
          ],
          [
           "C32055",
           17,
           2018,
           "Boston"
          ],
          [
           "B32006",
           15,
           2011,
           "Boston"
          ],
          [
           "B32029",
           15,
           2016,
           "Boston"
          ],
          [
           "C32052",
           19,
           2018,
           "Boston"
          ],
          [
           "C32077",
           19,
           2019,
           "Boston"
          ],
          [
           "A32002",
           15,
           2011,
           "Boston"
          ],
          [
           "K32006",
           15,
           2017,
           "Brookline"
          ],
          [
           "D32033",
           19,
           2018,
           "Boston"
          ],
          [
           "A32017",
           15,
           2012,
           "Boston"
          ],
          [
           "D32034",
           15,
           2018,
           "Boston"
          ],
          [
           "T32013",
           9,
           2022,
           "Salem"
          ],
          [
           "S32022",
           15,
           2018,
           "Somerville"
          ],
          [
           "S32040",
           19,
           2020,
           "Somerville"
          ],
          [
           "M32074",
           19,
           2021,
           "Cambridge"
          ],
          [
           "D32009",
           23,
           2011,
           "Boston"
          ],
          [
           "C32032",
           15,
           2016,
           "Boston"
          ],
          [
           "C32010",
           19,
           2011,
           "Boston"
          ],
          [
           "S32004",
           23,
           2012,
           "Somerville"
          ],
          [
           "K32001",
           19,
           2012,
           "Brookline"
          ],
          [
           "W32001",
           12,
           2020,
           "Watertown"
          ],
          [
           "D32005",
           33,
           2011,
           "Boston"
          ],
          [
           "S32037",
           19,
           2019,
           "Somerville"
          ],
          [
           "D32010",
           19,
           2011,
           "Boston"
          ],
          [
           "E32001",
           15,
           2013,
           "Boston"
          ],
          [
           "K32009",
           15,
           2018,
           "Brookline"
          ],
          [
           "M32030",
           19,
           2014,
           "Cambridge"
          ],
          [
           "M32031",
           17,
           2014,
           "Cambridge"
          ],
          [
           "M32075",
           19,
           2021,
           "Cambridge"
          ],
          [
           "D32045",
           19,
           2018,
           "Boston"
          ],
          [
           "S32006",
           25,
           2012,
           "Somerville"
          ],
          [
           "A32051",
           16,
           2020,
           "Boston"
          ],
          [
           "B32037",
           19,
           2018,
           "Boston"
          ],
          [
           "M32066",
           23,
           2019,
           "Cambridge"
          ],
          [
           "C32009",
           15,
           2011,
           "Boston"
          ],
          [
           "B32017",
           18,
           2011,
           "Boston"
          ],
          [
           "C32015",
           15,
           2012,
           "Boston"
          ],
          [
           "C32018",
           19,
           2013,
           "Boston"
          ],
          [
           "A32031",
           16,
           2016,
           "Boston"
          ],
          [
           "S32017",
           15,
           2018,
           "Somerville"
          ],
          [
           "S32038",
           15,
           2019,
           "Somerville"
          ],
          [
           "A32022",
           19,
           2015,
           "Boston"
          ],
          [
           "M32034",
           23,
           2014,
           "Cambridge"
          ],
          [
           "E32004",
           15,
           2013,
           "Boston"
          ],
          [
           "S32039",
           18,
           2019,
           "Somerville"
          ],
          [
           "V32005",
           15,
           2019,
           "Everett"
          ],
          [
           "T32011",
           11,
           2022,
           "Salem"
          ],
          [
           "V32003",
           16,
           2019,
           "Everett"
          ],
          [
           "A32000",
           15,
           2011,
           "Boston"
          ],
          [
           "A32038",
           15,
           2018,
           "Boston"
          ],
          [
           "C32051",
           23,
           2018,
           "Boston"
          ],
          [
           "C32041",
           10,
           2018,
           "Boston"
          ],
          [
           "B32064",
           15,
           2022,
           "Boston"
          ],
          [
           "S32047",
           19,
           2021,
           "Somerville"
          ],
          [
           "E32010",
           40,
           2019,
           "Boston"
          ],
          [
           "T32010",
           11,
           2022,
           "Salem"
          ],
          [
           "B32062",
           15,
           2021,
           "Boston"
          ],
          [
           "S32015",
           15,
           2018,
           "Somerville"
          ],
          [
           "C32037",
           11,
           2018,
           "Boston"
          ],
          [
           "C32027",
           15,
           2015,
           "Boston"
          ],
          [
           "C32030",
           14,
           2015,
           "Boston"
          ],
          [
           "M32051",
           17,
           2017,
           "Cambridge"
          ],
          [
           "M32078",
           19,
           2022,
           "Cambridge"
          ],
          [
           "M32072",
           19,
           2020,
           "Cambridge"
          ],
          [
           "C32040",
           15,
           2018,
           "Boston"
          ],
          [
           "C32090",
           19,
           2019,
           "Boston"
          ],
          [
           "S32046",
           19,
           2021,
           "Somerville"
          ],
          [
           "V32006",
           15,
           2019,
           "Everett"
          ],
          [
           "A32034",
           19,
           2016,
           "Boston"
          ],
          [
           "T32014",
           11,
           2022,
           "Salem"
          ],
          [
           "M32081",
           19,
           2022,
           "Cambridge"
          ],
          [
           "A32049",
           19,
           2020,
           "Boston"
          ],
          [
           "B32032",
           35,
           2018,
           "Boston"
          ],
          [
           "M32068",
           19,
           2020,
           "Cambridge"
          ],
          [
           "E32005",
           23,
           2013,
           "Boston"
          ],
          [
           "B32028",
           15,
           2016,
           "Boston"
          ],
          [
           "S32019",
           15,
           2018,
           "Somerville"
          ],
          [
           "V32012",
           11,
           2020,
           "Everett"
          ],
          [
           "D32043",
           19,
           2018,
           "Boston"
          ],
          [
           "C32093",
           19,
           2020,
           "Boston"
          ],
          [
           "C32057",
           19,
           2018,
           "Boston"
          ],
          [
           "D32035",
           15,
           2018,
           "Boston"
          ],
          [
           "M32016",
           23,
           2012,
           "Cambridge"
          ],
          [
           "M32020",
           19,
           2012,
           "Cambridge"
          ],
          [
           "M32017",
           15,
           2012,
           "Cambridge"
          ],
          [
           "M32018",
           19,
           2012,
           "Cambridge"
          ],
          [
           "K32017",
           15,
           2021,
           "Brookline"
          ],
          [
           "M32055",
           19,
           2018,
           "Cambridge"
          ],
          [
           "A32052",
           15,
           2020,
           "Boston"
          ],
          [
           "M32023",
           17,
           2012,
           "Cambridge"
          ],
          [
           "M32021",
           15,
           2013,
           "Cambridge"
          ],
          [
           "M32014",
           15,
           2012,
           "Cambridge"
          ],
          [
           "M32024",
           19,
           2012,
           "Cambridge"
          ],
          [
           "M32038",
           19,
           2012,
           "Cambridge"
          ],
          [
           "T32008",
           9,
           2022,
           "Salem"
          ],
          [
           "D32026",
           19,
           2013,
           "Boston"
          ],
          [
           "K32010",
           15,
           2019,
           "Brookline"
          ],
          [
           "B32003",
           25,
           2011,
           "Boston"
          ],
          [
           "A32040",
           15,
           2018,
           "Boston"
          ],
          [
           "D32060",
           23,
           2022,
           "Boston"
          ],
          [
           "B32033",
           15,
           2018,
           "Boston"
          ],
          [
           "M32044",
           19,
           2017,
           "Cambridge"
          ],
          [
           "C32100",
           19,
           2021,
           "Boston"
          ],
          [
           "C32089",
           15,
           2019,
           "Boston"
          ],
          [
           "E32013",
           15,
           2021,
           "Boston"
          ],
          [
           "E32003",
           15,
           2013,
           "Boston"
          ],
          [
           "C32020",
           17,
           2014,
           "Boston"
          ],
          [
           "C32021",
           19,
           2014,
           "Boston"
          ],
          [
           "C32025",
           27,
           2015,
           "Boston"
          ],
          [
           "M32062",
           25,
           2019,
           "Cambridge"
          ],
          [
           "A32011",
           19,
           2011,
           "Boston"
          ],
          [
           "E32006",
           18,
           2013,
           "Boston"
          ],
          [
           "D32052",
           19,
           2019,
           "Boston"
          ],
          [
           "K32004",
           15,
           2013,
           "Brookline"
          ],
          [
           "C32013",
           15,
           2012,
           "Boston"
          ],
          [
           "V32013",
           11,
           2020,
           "Everett"
          ],
          [
           "M32032",
           15,
           2014,
           "Cambridge"
          ],
          [
           "M32004",
           23,
           2016,
           "Cambridge"
          ],
          [
           "B32010",
           27,
           2011,
           "Boston"
          ],
          [
           "M32065",
           19,
           2019,
           "Cambridge"
          ],
          [
           "C32096",
           19,
           2021,
           "Boston"
          ],
          [
           "T32006",
           11,
           2021,
           "Salem"
          ],
          [
           "M32009",
           15,
           2012,
           "Cambridge"
          ],
          [
           "B32015",
           15,
           2011,
           "Boston"
          ],
          [
           "N32008",
           11,
           2020,
           "Newton"
          ],
          [
           "B32058",
           27,
           2019,
           "Boston"
          ],
          [
           "M32001",
           19,
           2012,
           "Cambridge"
          ],
          [
           "M32039",
           15,
           2015,
           "Cambridge"
          ],
          [
           "D32006",
           19,
           2011,
           "Boston"
          ],
          [
           "M32025",
           19,
           2013,
           "Cambridge"
          ],
          [
           "L32002",
           11,
           2020,
           "Arlington"
          ],
          [
           "A32004",
           15,
           2011,
           "Boston"
          ],
          [
           "M32022",
           19,
           2012,
           "Cambridge"
          ],
          [
           "S32013",
           19,
           2014,
           "Somerville"
          ],
          [
           "D32020",
           11,
           2012,
           "Boston"
          ],
          [
           "D32036",
           19,
           2018,
           "Boston"
          ],
          [
           "F32001",
           11,
           2022,
           "Medford"
          ],
          [
           "D32038",
           15,
           2018,
           "Boston"
          ],
          [
           "M32080",
           23,
           2022,
           "Cambridge"
          ],
          [
           "G32001",
           11,
           2022,
           "Malden"
          ],
          [
           "K32012",
           15,
           2019,
           "Brookline"
          ],
          [
           "A32048",
           19,
           2020,
           "Boston"
          ],
          [
           "E32012",
           16,
           2020,
           "Boston"
          ],
          [
           "M32061",
           18,
           2019,
           "Cambridge"
          ],
          [
           "L32006",
           11,
           2021,
           "Arlington"
          ],
          [
           "L32003",
           11,
           2020,
           "Arlington"
          ],
          [
           "M32056",
           19,
           2018,
           "Cambridge"
          ],
          [
           "C32063",
           16,
           2019,
           "Boston"
          ],
          [
           "C32004",
           14,
           2011,
           "Boston"
          ],
          [
           "C32050",
           15,
           2018,
           "Boston"
          ],
          [
           "C32045",
           15,
           2018,
           "Boston"
          ],
          [
           "A32030",
           33,
           2016,
           "Boston"
          ],
          [
           "A32044",
           15,
           2019,
           "Boston"
          ],
          [
           "T32004",
           11,
           2021,
           "Salem"
          ],
          [
           "F32002",
           11,
           2022,
           "Medford"
          ],
          [
           "D32037",
           19,
           2018,
           "Boston"
          ],
          [
           "M32006",
           27,
           2012,
           "Cambridge"
          ],
          [
           "M32070",
           27,
           2020,
           "Cambridge"
          ],
          [
           "M32071",
           27,
           2020,
           "Cambridge"
          ],
          [
           "M32041",
           19,
           2015,
           "Cambridge"
          ],
          [
           "M32005",
           35,
           2012,
           "Cambridge"
          ],
          [
           "M32042",
           25,
           2015,
           "Cambridge"
          ],
          [
           "B32023",
           15,
           2016,
           "Boston"
          ],
          [
           "C32103",
           15,
           2021,
           "Boston"
          ],
          [
           "C23045",
           15,
           2018,
           "Boston"
          ],
          [
           "M32043",
           19,
           2015,
           "Cambridge"
          ],
          [
           "C32080",
           19,
           2019,
           "Boston"
          ],
          [
           "D32017",
           19,
           2011,
           "Boston"
          ],
          [
           "C32023",
           19,
           2014,
           "Boston"
          ],
          [
           "M32045",
           19,
           2017,
           "Cambridge"
          ],
          [
           "A32025",
           36,
           2016,
           "Boston"
          ],
          [
           "B32027",
           15,
           2016,
           "Boston"
          ],
          [
           "D32001",
           15,
           2011,
           "Boston"
          ],
          [
           "B32000",
           23,
           2011,
           "Boston"
          ],
          [
           "C32022",
           15,
           2014,
           "Boston"
          ],
          [
           "N32010",
           15,
           2021,
           "Newton"
          ],
          [
           "N32013",
           13,
           2021,
           "Newton"
          ],
          [
           "W32007",
           12,
           2021,
           "Watertown"
          ],
          [
           "N32002",
           15,
           2020,
           "Newton"
          ],
          [
           "C32078",
           19,
           2019,
           "Boston"
          ],
          [
           "B32012",
           15,
           2011,
           "Boston"
          ],
          [
           "G32002",
           11,
           null,
           "Malden"
          ],
          [
           "D32031",
           15,
           2016,
           "Boston"
          ],
          [
           "M32076",
           15,
           2021,
           "Cambridge"
          ],
          [
           "B32061",
           16,
           2021,
           "Boston"
          ],
          [
           "B32036",
           15,
           2018,
           "Boston"
          ],
          [
           "M32003",
           23,
           2012,
           "Cambridge"
          ],
          [
           "M32002",
           19,
           2012,
           "Cambridge"
          ],
          [
           "M32053",
           19,
           2017,
           "Cambridge"
          ],
          [
           "A32035",
           19,
           2016,
           "Boston"
          ],
          [
           "R32002",
           11,
           2021,
           "Revere"
          ],
          [
           "S32009",
           15,
           2013,
           "Somerville"
          ],
          [
           "A32012",
           27,
           2011,
           "Boston"
          ],
          [
           "A32008",
           15,
           2012,
           "Boston"
          ],
          [
           "D32042",
           19,
           2018,
           "Boston"
          ],
          [
           "C32039",
           15,
           2018,
           "Boston"
          ],
          [
           "S32034",
           19,
           2018,
           "Somerville"
          ],
          [
           "C32107",
           19,
           2022,
           "Boston"
          ],
          [
           "A32029",
           15,
           2016,
           "Boston"
          ],
          [
           "M32029",
           19,
           2013,
           "Cambridge"
          ],
          [
           "A32050",
           17,
           2020,
           "Boston"
          ],
          [
           "D32012",
           19,
           2011,
           "Boston"
          ],
          [
           "S32008",
           15,
           2012,
           "Somerville"
          ],
          [
           "C32007",
           18,
           2011,
           "Boston"
          ],
          [
           "A32026",
           19,
           2016,
           "Boston"
          ],
          [
           "L32001",
           11,
           2020,
           "Arlington"
          ],
          [
           "M32079",
           19,
           2022,
           "Cambridge"
          ],
          [
           "R32006",
           11,
           2020,
           "Revere"
          ],
          [
           "R32007",
           11,
           2020,
           "Revere"
          ],
          [
           "M32036",
           19,
           2014,
           "Cambridge"
          ],
          [
           "C32058",
           15,
           2018,
           "Boston"
          ],
          [
           "M32035",
           19,
           2018,
           "Cambridge"
          ],
          [
           "C32097",
           12,
           2021,
           "Boston"
          ],
          [
           "C32047",
           15,
           2018,
           "Boston"
          ],
          [
           "C32046",
           15,
           2018,
           "Boston"
          ],
          [
           "E32014",
           19,
           2022,
           "Boston"
          ],
          [
           "D32008",
           14,
           2011,
           "Boston"
          ],
          [
           "C32001",
           23,
           2011,
           "Boston"
          ],
          [
           "B32022",
           10,
           2016,
           "Boston"
          ],
          [
           "B32002",
           26,
           2011,
           "Boston"
          ],
          [
           "C32031",
           15,
           2015,
           "Boston"
          ],
          [
           "E32007",
           15,
           2015,
           "Boston"
          ],
          [
           "T32001",
           11,
           2021,
           "Salem"
          ],
          [
           "T32012",
           11,
           2022,
           "Salem"
          ],
          [
           "T32005",
           13,
           2021,
           "Salem"
          ],
          [
           "T32007",
           15,
           null,
           "Salem"
          ],
          [
           "T32009",
           11,
           2022,
           "Salem"
          ],
          [
           "T32002",
           15,
           2021,
           "Salem"
          ],
          [
           "C32033",
           14,
           2016,
           "Boston"
          ],
          [
           "C32036",
           15,
           2017,
           "Boston"
          ],
          [
           "B32014",
           19,
           2011,
           "Boston"
          ],
          [
           "B32007",
           19,
           2011,
           "Boston"
          ],
          [
           "M32063",
           19,
           2019,
           "Cambridge"
          ],
          [
           "D32059",
           19,
           2022,
           "Boston"
          ],
          [
           "D32048",
           15,
           2019,
           "Boston"
          ],
          [
           "E32009",
           19,
           2019,
           "Boston"
          ],
          [
           "T32003",
           11,
           2021,
           "Salem"
          ],
          [
           "M32047",
           19,
           2016,
           "Cambridge"
          ],
          [
           "D32032",
           19,
           2017,
           "Boston"
          ],
          [
           "M32069",
           19,
           2020,
           "Cambridge"
          ],
          [
           "A32006",
           15,
           2011,
           "Boston"
          ],
          [
           "S32001",
           19,
           2012,
           "Somerville"
          ],
          [
           "S32036",
           19,
           2019,
           "Somerville"
          ],
          [
           "S32048",
           17,
           2021,
           "Somerville"
          ],
          [
           "S32020",
           15,
           2018,
           "Somerville"
          ],
          [
           "C32017",
           15,
           2013,
           "Boston"
          ],
          [
           "A32009",
           15,
           2011,
           "Boston"
          ],
          [
           "A32010",
           47,
           2011,
           "Boston"
          ],
          [
           "D32023",
           19,
           2012,
           "Boston"
          ],
          [
           "C32087",
           19,
           2019,
           "Boston"
          ],
          [
           "K32007",
           15,
           2018,
           "Brookline"
          ],
          [
           "B32063",
           18,
           2022,
           "Boston"
          ],
          [
           "C32024",
           19,
           2014,
           "Boston"
          ],
          [
           "D32041",
           19,
           2018,
           "Boston"
          ],
          [
           "D32049",
           19,
           2019,
           "Boston"
          ],
          [
           "D32011",
           17,
           2011,
           "Boston"
          ],
          [
           "D32053",
           19,
           2019,
           "Boston"
          ],
          [
           "R32001",
           11,
           2021,
           "Revere"
          ],
          [
           "A32013",
           19,
           2015,
           "Boston"
          ],
          [
           "A32042",
           27,
           2019,
           "Boston"
          ],
          [
           "V32007",
           15,
           2019,
           "Everett"
          ],
          [
           "C32064",
           19,
           2019,
           "Boston"
          ],
          [
           "C32043",
           3,
           2018,
           "Boston"
          ],
          [
           "K32008",
           15,
           2018,
           "Brookline"
          ],
          [
           "S32011",
           15,
           2013,
           "Somerville"
          ],
          [
           "E32011",
           16,
           2019,
           "Boston"
          ],
          [
           "A32033",
           15,
           2016,
           "Boston"
          ],
          [
           "C32028",
           19,
           2015,
           "Boston"
          ],
          [
           "D32054",
           19,
           2020,
           "Boston"
          ],
          [
           "C32049",
           15,
           2018,
           "Boston"
          ],
          [
           "M32048",
           15,
           2016,
           "Cambridge"
          ],
          [
           "L32005",
           11,
           2020,
           "Arlington"
          ],
          [
           "C32000",
           19,
           2011,
           "Boston"
          ],
          [
           "B32056",
           19,
           2018,
           "Boston"
          ],
          [
           "C32056",
           19,
           2018,
           "Boston"
          ],
          [
           "C32060",
           15,
           2019,
           "Boston"
          ],
          [
           "D32014",
           15,
           2011,
           "Boston"
          ],
          [
           "C32035",
           14,
           2017,
           "Boston"
          ],
          [
           "F32003",
           11,
           2022,
           "Medford"
          ],
          [
           "A32001",
           19,
           2011,
           "Boston"
          ],
          [
           "S32002",
           19,
           2012,
           "Somerville"
          ],
          [
           "S32041",
           19,
           2021,
           "Somerville"
          ],
          [
           "N32004",
           11,
           2020,
           "Newton"
          ],
          [
           "C32014",
           19,
           2012,
           "Boston"
          ],
          [
           "M32040",
           19,
           2015,
           "Cambridge"
          ],
          [
           "C32019",
           15,
           2013,
           "Boston"
          ],
          [
           "B32025",
           15,
           2016,
           "Boston"
          ],
          [
           "A32053",
           24,
           2021,
           "Boston"
          ],
          [
           "M32057",
           19,
           2018,
           "Cambridge"
          ],
          [
           "M32050",
           19,
           2017,
           "Cambridge"
          ],
          [
           "C32029",
           23,
           2015,
           "Boston"
          ],
          [
           "C32016",
           17,
           2013,
           "Boston"
          ],
          [
           "C32102",
           19,
           2021,
           "Boston"
          ],
          [
           "B32030",
           15,
           2016,
           "Boston"
          ],
          [
           "D32021",
           23,
           2021,
           "Boston"
          ],
          [
           "V32010",
           15,
           2019,
           "Everett"
          ],
          [
           "K32011",
           15,
           2019,
           "Brookline"
          ],
          [
           "C32042",
           15,
           2018,
           "Boston"
          ],
          [
           "D32029",
           15,
           2020,
           "Boston"
          ],
          [
           "N32001",
           11,
           2020,
           "Newton"
          ],
          [
           "C32081",
           19,
           2020,
           "Boston"
          ],
          [
           "A32037",
           15,
           2022,
           "Boston"
          ],
          [
           "C32084",
           15,
           2019,
           "Boston"
          ],
          [
           "C32005",
           15,
           2011,
           "Boston"
          ],
          [
           "B32026",
           19,
           2020,
           "Boston"
          ],
          [
           "S32021",
           15,
           2018,
           "Somerville"
          ],
          [
           "C32067",
           19,
           2019,
           "Boston"
          ],
          [
           "C32006",
           27,
           2011,
           "Boston"
          ],
          [
           "C32038",
           17,
           2018,
           "Boston"
          ],
          [
           "N32014",
           11,
           2021,
           "Newton"
          ],
          [
           "C32083",
           19,
           2019,
           "Boston"
          ],
          [
           "D32002",
           15,
           2011,
           "Boston"
          ],
          [
           "C32034",
           15,
           2016,
           "Boston"
          ],
          [
           "W32002",
           15,
           2020,
           "Watertown"
          ],
          [
           "N32006",
           11,
           2020,
           "Newton"
          ],
          [
           "W32005",
           11,
           2020,
           "Watertown"
          ],
          [
           "V32014",
           19,
           2022,
           "Everett"
          ],
          [
           "B32021",
           14,
           2015,
           "Boston"
          ],
          [
           "D32022",
           35,
           2012,
           "Boston"
          ],
          [
           "N32005",
           15,
           2020,
           "Newton"
          ],
          [
           "A32043",
           19,
           2019,
           "Boston"
          ],
          [
           "B32059",
           19,
           2019,
           "Boston"
          ],
          [
           "D32040",
           23,
           2018,
           "Boston"
          ],
          [
           "S32005",
           15,
           2012,
           "Somerville"
          ]
         ],
         "hovertemplate": "<b>%{hovertext}</b><br><br>Latitude=%{lat}<br>Longitude=%{lon}<br>Number=%{customdata[0]}<br>Total docks=%{customdata[1]}<br>Deployment Year=%{customdata[2]}<br>District=%{customdata[3]}<extra></extra>",
         "hovertext": [
          "1200 Beacon St",
          "160 Arsenal",
          "175 N Harvard St",
          "191 Beacon St",
          "2 Hummingbird Lane at Olmsted Green",
          "30 Dane St",
          "359 Broadway - Broadway at Fayette Street",
          "555 Metropolitan Ave",
          "606 American Legion Hwy at Canterbury St",
          "645 Summer St",
          "699 Mt Auburn St",
          "7 Acre Park",
          "700 Commonwealth Ave.",
          "700 Huron Ave",
          "75 Binney St",
          "84 Cambridgepark Dr",
          "855 Broadway",
          "955 Mass Ave",
          "Adams Branch Library",
          "Adams St at Lonsdale St",
          "Addison St at Saratoga St",
          "Airport T Stop - Bremen St at Brooks St",
          "Albany St at E. Brookline St",
          "Alewife MBTA at Steel Place",
          "Alewife Station at Russell Field",
          "American Legion Hwy at Cummins Hwy",
          "American Legion Hwy at Hyde Park Ave",
          "Ames St at Broadway",
          "Ames St at Main St",
          "Andrew T Stop - Dorchester Ave at Dexter St",
          "Aquarium T Stop - 200 Atlantic Ave",
          "Arch St at Franklin St",
          "Archdale Rd at Washington St",
          "Arsenal Yards",
          "Ashmont T Stop",
          "Assembly Square T",
          "Auburndale",
          "B.U. Central - 725 Comm. Ave.",
          "Back Bay T Stop - Dartmouth St at Stuart St",
          "Bacon St at Washington St",
          "Ball Sq",
          "Bartlett St at John Elliot Sq",
          "Beacon at Walnut",
          "Beacon St at Charles St",
          "Beacon St at Massachusetts Ave",
          "Beacon St at Tappan St",
          "Beacon St at Washington / Kirkland",
          "Belgrade Ave at Walworth St",
          "Bellevue T Stop",
          "Bellingham Square",
          "Bennington St at Byron St",
          "Bennington St at Constitution Beach",
          "Berkshire Street at Cambridge Street",
          "Binney St / Sixth St",
          "Blossom St at Charles St",
          "Blue Hill Ave at Almont St",
          "Blue Hill Ave at Havelock St",
          "Blue Hill Ave at Southwood St",
          "Boston City Hall - 28 State St",
          "Boston College T",
          "Boston Convention and Exhibition Center - Summer St at West Side Dr",
          "Boston East - 126 Border St",
          "Boston Landing",
          "Boston Medical Center - E Concord St at Harrison Ave",
          "Bowdoin St at Quincy St",
          "Boylston St at Arlington St",
          "Boylston St at Berkeley St",
          "Boylston St at Dartmouth St",
          "Boylston St at Exeter St",
          "Boylston St at Fairfield St",
          "Boylston St at Jersey St",
          "Boylston St at Massachusetts Ave",
          "Brigham Circle - Francis St at Huntington Ave",
          "Brighton Ave at Linden St",
          "Brighton Center - Washington St at Cambridge St",
          "Brighton Mills - 370 Western Ave",
          "Broad Canal Way at Third Street",
          "Broad St at Central St",
          "Broadway at Beacham St",
          "Broadway at Central St",
          "Broadway at Gerrish Ave",
          "Broadway at Grafton St",
          "Broadway at Lynde St",
          "Broadway at Maple St",
          "Broadway St at Mt Pleasant St",
          "Brookline Town Hall",
          "Brookline Village - Station Street at MBTA",
          "Bunker Hill Community College",
          "Burlington Ave at Brookline Ave",
          "California at Chapel",
          "Cambridge Crossing at North First Street",
          "Cambridge Dept. of Public Works -147 Hampshire St.",
          "Cambridge Main Library at Broadway / Trowbridge St",
          "Cambridge St - at Columbia St / Webster Ave",
          "Cambridge St at Joy St",
          "CambridgeSide Galleria - CambridgeSide PL at Land Blvd",
          "Canal St at Causeway St",
          "Cary Square",
          "Central Ave at River St",
          "Central Sq Post Office / Cambridge City Hall at Mass Ave / Pleasant St",
          "Central Square at Mass Ave / Essex St",
          "Central Square East Boston",
          "Centre St at Commonwealth Ave",
          "Centre St at Parkway YMCA",
          "Centre St at Seaverns Ave",
          "Centre St at W. Roxbury Post Office",
          "Centre St at Washington St",
          "Charles Circle - Charles St at Cambridge St",
          "Charlestown Navy Yard",
          "Chelsea Square",
          "Chelsea St at Vine St",
          "Chelsea Station",
          "Child Street at Brian P. Murphy Staircase",
          "Chinatown Gate Plaza",
          "Chinatown T Stop",
          "Christian Science Plaza - Massachusetts Ave at Westland Ave",
          "Circuit Drive at American Legion Hwy",
          "Clarendon Hill at Broadway",
          "Clarendon St at Newbury St",
          "Cleary Sq",
          "Cleveland Circle",
          "Clinton St at North St",
          "Codman Square Library",
          "Colleges of the Fenway - Fenway at Avenue Louis Pasteur",
          "Columbia Rd at Ceylon St",
          "Columbia Rd at Tierney Community Center",
          "Columbus Ave at W. Canton St",
          "Commonwealth Ave at Agganis Way",
          "Commonwealth Ave At Babcock St",
          "Commonwealth Ave at Chiswick Rd",
          "Commonwealth Ave at Griggs St",
          "Commonwealth Ave at Kelton St",
          "Community Life Center",
          "Community Path at Cedar Street",
          "Community Path at Lowell St",
          "Concord Ave at Spinelli Place",
          "Congress St at Boston City Hall",
          "Congress St at Northern Ave",
          "Congress St at Sleeper St",
          "Conway Park - Somerville Avenue",
          "Coolidge Corner - Beacon St at Centre St",
          "Coolidge Sq.",
          "Copley Square - Dartmouth St at Boylston St",
          "Craigie at Summer St",
          "Cross St at Hanover St",
          "Curtis Hall - South St at Centre St",
          "Cypress St at Clark Playground",
          "Dana Park",
          "Danehy Park",
          "Danehy Park at New Street",
          "Dartmouth St at Newbury St",
          "Davis Square",
          "Day Sq",
          "Deerfield St at Commonwealth Ave",
          "Discovery Park - 30 Acorn Park Drive",
          "Dorchester Ave at Gillette Park",
          "Dudley Square - Bolling Building",
          "Dudley Town Common - Mt Pleasant Ave at Blue Hill Ave",
          "E Cottage St at Columbia Rd",
          "East Boston Neighborhood Health Center - 20 Maverick Square",
          "East Somerville Library (Broadway and Illinois)",
          "Edgerly Education Center",
          "Edwards Playground - Main St at Eden St",
          "EF - North Point Park",
          "Egleston Square - Atherton St at Washington St",
          "Elm St at White St",
          "Encore",
          "Essex St at Dalton Parkway",
          "Everett Square (Broadway at Chelsea St)",
          "Fan Pier",
          "Faneuil St at Arlington St",
          "Farragut Rd at E. 6th St",
          "Fields Corner T Stop",
          "Flat 9 at Whittier",
          "Foley St at Grand Union Blvd",
          "Forest Hills",
          "Forest River Park",
          "Forsyth St at Huntington Ave",
          "Foss Park",
          "Four Corners - 157 Washington St",
          "Franklin Park - Seaver St at Humboldt Ave",
          "Franklin Park Zoo - Franklin Park Rd at Blue Hill Ave",
          "Fresh Pond Reservation",
          "Galileo Galilei Way at Fulkerson St/Binney St",
          "Galileo Galilei Way at Main Street",
          "Gallivan Blvd at Adams St",
          "Geiger Gibson Community Health Center",
          "Gilman Square T at Medford St",
          "Glendale Square (Ferry St at Broadway)",
          "Glendon St at Condor St",
          "Goodhue St at Grove St",
          "Gore Street at Lambert Street",
          "Gove St at Orleans St",
          "Government Center - Cambridge St at Court St",
          "Graham and Parks School ? Linnaean St at Walker St",
          "Green Street T Stop - Green St at Amory St",
          "Grove Hall Library - 41 Geneva Ave",
          "Grove St at Community Path",
          "Hale Park",
          "Harrison Ave at Bennet St",
          "Harrison Ave at E. Dedham St",
          "Harrison Ave at Mullins Way",
          "Harvard Ave at Brainerd Rd",
          "Harvard Kennedy School at Bennett St / Eliot St",
          "Harvard Law School at Mass Ave / Jarvis St",
          "Harvard Square at Brattle St / Eliot St",
          "Harvard Square at Mass Ave/ Dunster",
          "Harvard St and Stedman St",
          "Harvard St at Greene-Rose Heritage Park",
          "Harvard Stadium: N. Harvard St at Soldiers Field Rd",
          "Harvard University / SEAS Cruft-Pierce Halls at 29 Oxford St",
          "Harvard University Gund Hall at Quincy St / Kirkland St",
          "Harvard University Housing - 115 Putnam Ave at Peabody Terrace",
          "Harvard University Radcliffe Quadrangle at Shepard St / Garden St",
          "Harvard University River Houses at DeWolfe St / Cowperthwaite St",
          "Hawthorne Boulevard",
          "Hayes Square - Vine St at Moulton St",
          "High St at Cypress St",
          "HMS/HSPH - Avenue Louis Pasteur at Longwood Ave",
          "Honan Library",
          "Hood Park",
          "Huntington Ave at Mass Art",
          "Huron Ave At Vassal Lane",
          "Hyde Park Ave at Arlington St",
          "Hyde Park Ave at Walk Hill St",
          "Hyde Park Library",
          "Hyde Square - Barbara St at Centre St",
          "ID Building East",
          "ID Building West",
          "Ink Block - Harrison Ave at Herald St",
          "Inman Square at Springfield St.",
          "Innovation Lab - 125 Western Ave at Batten Way",
          "Jackson Square T Stop",
          "Jamaica St at South St",
          "JFK Crossing at Harvard St. / Thorndike St.",
          "JFK/UMass T Stop",
          "Kearins Playground",
          "Kendall Street",
          "Kendall T",
          "Kenmore Square",
          "Kennedy-Longfellow School 158 Spring St",
          "Knoll St at Centre St",
          "Lafayette at Leach St",
          "Lafayette Square at Mass Ave / Main St / Columbia St",
          "Landmark Center - Brookline Ave at Park Dr",
          "Langley Lot",
          "Lansdowne T Stop",
          "Lechmere Station at Cambridge St / First St",
          "Lesley University",
          "Lewis Wharf at Atlantic Ave",
          "Linear Park - Mass. Ave. at Cameron Ave.",
          "Linwood St at Minuteman Bikeway",
          "Longwood Ave at Binney St",
          "Lower Cambridgeport at Magazine St / Riverside Rd",
          "Magoun Square at Trum Field",
          "Main St at Austin St",
          "Main St at Baldwin St",
          "Main St at Brooks Park",
          "Main St at Thompson Sq",
          "Main Street/Albany Street/Technology Square",
          "Malden Center T Station",
          "Marion St at Harvard St",
          "Marion St at White St",
          "Martha Eliot Health Center",
          "Mass Ave at Albany St",
          "Mass Ave at Broadway",
          "Mass Ave at Grafton St",
          "Mass Ave at Hadley/Walden",
          "Mass Ave T Station",
          "Massachusetts Ave at Columbus Ave",
          "Mattapan Library",
          "Mattapan T Stop",
          "Maverick Square - Lewis Mall",
          "Maverick St at Massport Path",
          "Mayor Salvo Path at Mill St",
          "Medford Sq - Riverside Ave at River St",
          "Medford St at Charlestown BCYF",
          "MIT at Mass Ave / Amherst St",
          "MIT Carleton St at Amherst St",
          "MIT Hayward St at Amherst St",
          "MIT Pacific St at Purrington St",
          "MIT Stata Center at Vassar St / Main St",
          "MIT Vassar St",
          "MLK Blvd at Washington St",
          "Morton St at Gallivan Blvd",
          "Morton St T",
          "Mt Auburn",
          "Mt. Hope St at Hyde Park Ave",
          "Mugar Way at Beacon St",
          "Murphy Skating Rink - 1880 Day Blvd",
          "Museum of Science",
          "Nashua Street at Red Auerbach Way",
          "NCAAA - Walnut Ave at Crawford St",
          "New Balance - 20 Guest St",
          "Newbury St at Hereford St",
          "Newmarket Square T Stop - Massachusetts Ave at Newmarket Square",
          "Newton Highlands T",
          "Newton Library",
          "Nichols Ave. at Watertown Greenway",
          "Nonantum Library",
          "Northbourne Rd at Hyde Park Ave",
          "Northeastern University - North Parking Lot",
          "Northern Strand at Main St",
          "Oak Square - 615 Washington St",
          "Old Morse Park at Putnam Ave",
          "One Beacon St",
          "One Brigham Circle",
          "One Broadway / Kendall Sq at Main St / 3rd St",
          "One Kendall Square at Hampshire St / Portland St",
          "One Memorial Drive",
          "Orient Heights T Stop - Bennington St at Saratoga St",
          "Orr Sq (Shirley Ave)",
          "Packard Ave at Powderhouse Blvd",
          "Packard's Corner - Commonwealth Ave at Brighton Ave",
          "Park Dr at Buswell St",
          "Park Plaza at Charles St S.",
          "Park St at Norwell St",
          "Perry Park",
          "Pier 4 Blvd at Autumn Ln",
          "Piers Park",
          "Porter Square Station",
          "Porzio Park",
          "Post Office Square",
          "Powder House Circle - Nathan Tufts Park",
          "Prudential Center - 101 Huntington Ave",
          "Purchase St at Pearl St",
          "Railroad Lot and Minuteman Bikeway",
          "Raymond Park at Walden St",
          "Revere City Hall",
          "Revere Public Library",
          "Rindge Avenue - O'Neill Library",
          "Ring Rd",
          "Rogers St & Land Blvd",
          "Roseland St At Dorchester Ave",
          "Roslindale Village - South St",
          "Roslindale Village - Washington St",
          "Ross Playground",
          "Rowes Wharf at Atlantic Ave",
          "Roxbury Crossing T Stop - Columbus Ave at Tremont St",
          "Roxbury YMCA - Warren St at MLK Blvd",
          "Ruggles T Stop - Columbus Ave at Melnea Cass Blvd",
          "Ryan Playground - Dorchester Ave at Harbor View St",
          "S Huntington Ave at Heath St",
          "Salem Ferry Landing",
          "Salem MBTA - Lower Level",
          "Salem MBTA - Washington at Federal St",
          "Salem State University - Bike Path at Loring Ave",
          "Salem State University - North Campus",
          "Salem Willows Park",
          "Savin Hill T Stop - S Sydney St at Bay St",
          "Seaport Blvd at Sleeper St",
          "Seaport Hotel - Congress St at Seaport Ln",
          "Seaport Square - Seaport Blvd at Northern Ave",
          "Sennott Park Broadway at Norfolk Street",
          "Shawmut Ave at Lenox St",
          "Shawmut Ave at Oak St W",
          "Shawmut T Stop",
          "Shetland Park - Congress at Peabody St",
          "Sidney Research Campus/Erie Street at Waverly",
          "Silber Way",
          "Smith Pl at Wilson Rd",
          "Soldiers Field Park - 111 Western Ave",
          "Somerville City Hall",
          "Somerville City Hall Annex",
          "Somerville High School & Central Library",
          "Somerville Hospital",
          "South Boston Library - 646 E Broadway",
          "South End Library - Tremont St at W Newton St",
          "South Station - 700 Atlantic Ave",
          "Spaulding Rehabilitation Hospital - Charlestown Navy Yard",
          "Spring St at Powell St",
          "St Mary's",
          "St. Alphonsus St at Tremont St",
          "State Street at Channel Center",
          "Stony Brook T Stop",
          "Stuart St at Berkeley St",
          "Stuart St at Charles St",
          "Sullivan Square",
          "Sumner St at Shirley Ave",
          "Surface Rd at India St",
          "Surface Rd at Summer St",
          "Swan St. Park",
          "Sydney St at Carson St",
          "Talbot Ave At Blue Hill Ave",
          "Tappan St at Brookline Hills MBTA",
          "Teele Square",
          "The Dimock Center",
          "The Eddy - New St at Sumner St",
          "The Lawn on D",
          "The Overlook at St. Gabriel's",
          "Thetford Ave at Norfolk St",
          "Third at Binney",
          "Thorndike Field at Minuteman Bikeway",
          "Tremont St at E Berkeley St",
          "Tremont St at Hamilton Pl",
          "Tremont St at Northampton St",
          "Tremont St at W. Dedham St",
          "Tremont St at West St",
          "Troy Boston",
          "Tufts Sq - Main St at Medford St",
          "Union Square - Brighton Ave at Cambridge St",
          "Union Square - Somerville",
          "Union Square East",
          "Union St at Herrick Rd ? Newton Centre Green Line",
          "University of Massachusetts Boston - Campus Center",
          "University Park",
          "Uphams Corner",
          "Uphams Corner T Stop - Magnolia St at Dudley St",
          "Valenti Way at Haverhill St",
          "Vassal Lane at Tobin/VLUS",
          "Verizon Innovation Hub 10 Ware Street",
          "W Broadway at D St",
          "W Broadway at Dorchester St",
          "Walnut Ave at School St",
          "Walnut Ave at Warren St",
          "Warren St at Chelsea St",
          "Wasgott Playground",
          "Washington Sq",
          "Washington St at Bowdoin St",
          "Washington St at Brock St",
          "Washington St at Crafts St",
          "Washington St at Denton Terr",
          "Washington St at Egremont Rd",
          "Washington St at Fuller St",
          "Washington St at Lenox St",
          "Washington St at Melnea Cass Blvd",
          "Washington St at Myrtle St",
          "Washington St at Peters Park",
          "Washington St at Rutland St",
          "Washington St at Talbot Ave",
          "Washington St at Walnut St",
          "Washington St at Walsh Playground",
          "Washington St at Waltham St",
          "Watermark Seaport - Boston Wharf Rd at Seaport Blvd",
          "Watertown Sq",
          "Watertown St at Albemarle Rd",
          "Watertown Town Hall",
          "Wellington MBTA",
          "Wentworth Institute of Technology - Huntington Ave at Vancouver St",
          "West End Park",
          "West Newton",
          "Western Ave at Richardson St",
          "Whittier St Health Center",
          "Williams St at Washington St",
          "Wilson Square"
         ],
         "lat": [
          42.34414899,
          42.36466403,
          42.363796,
          42.38032335,
          42.28887,
          42.38100143,
          42.370803,
          42.2681,
          42.28578,
          42.34178089,
          42.37500235,
          42.41143223,
          42.34960945,
          42.38078817,
          42.36550729,
          42.3936,
          42.39841773,
          42.36895181,
          42.286011,
          42.29167943,
          42.38518147,
          42.37534193,
          42.33664795,
          42.39558846,
          42.396105,
          42.27881158,
          42.27265394,
          42.3636929,
          42.3625,
          42.33073333,
          42.35991176,
          42.35533502,
          42.29266593,
          42.36277389,
          42.2856944,
          42.39223284,
          42.34805541,
          42.350406,
          42.34807412,
          42.35711921,
          42.39920336,
          42.3294633,
          42.33006232,
          42.356052,
          42.35082681,
          42.3382668,
          42.37875351,
          42.28634589,
          42.28611421,
          42.39319611,
          42.38353252,
          42.38522394,
          42.37207658,
          42.36608797,
          42.36435589,
          42.27462067,
          42.286012,
          42.31786021,
          42.35892,
          42.33987892,
          42.34776345,
          42.37331213,
          42.35656092,
          42.33639915,
          42.30785224,
          42.35200961,
          42.35114198,
          42.3501932,
          42.34958942,
          42.34908155,
          42.34465063,
          42.34740621,
          42.33462893,
          42.3528376,
          42.34894857,
          42.36154571,
          42.3630455,
          42.35849449,
          42.3983606,
          42.3951715,
          42.39453079,
          42.40994213,
          42.39648358,
          42.41034691,
          42.38614141,
          42.33376473,
          42.33274392,
          42.37408991,
          42.345733,
          42.36514871,
          42.371141,
          42.37119728,
          42.373379,
          42.372969,
          42.36125722,
          42.36707407,
          42.36530095,
          42.39813565,
          42.27094707,
          42.366426,
          42.36507,
          42.37544913,
          42.3362358,
          42.28277901,
          42.3121203,
          42.28633199,
          42.35574335,
          42.36079297,
          42.37412455,
          42.39022671,
          42.40328057,
          42.39636528,
          42.37197678,
          42.351356,
          42.352409,
          42.34366582,
          42.29704126,
          42.406302,
          42.35159662,
          42.2556,
          42.33554308,
          42.36070284,
          42.2873611,
          42.34011512,
          42.309572,
          42.33023071,
          42.34474225,
          42.35169202,
          42.35154735,
          42.34024645,
          42.34922469,
          42.34835863,
          42.520136,
          42.39407224,
          42.392525,
          42.390719,
          42.36041775,
          42.3481,
          42.3510045,
          42.38363895,
          42.341598,
          42.37207611,
          42.34992828,
          42.38831608,
          42.362811,
          42.309054,
          42.32784317,
          42.36178044,
          42.388966,
          42.389456,
          42.35096144,
          42.396969,
          42.379295,
          42.34924377,
          42.39790817,
          42.34404051,
          42.32984299,
          42.325333,
          42.320561,
          42.369536,
          42.38762811,
          42.38717463,
          42.378965,
          42.369885,
          42.315692,
          42.38952436,
          42.39329263,
          42.516223,
          42.40695679,
          42.35339051,
          42.35276621,
          42.3334,
          42.29963349,
          42.33420351,
          42.3930184,
          42.300923,
          42.506395,
          42.339202,
          42.39108438,
          42.30412793,
          42.309796,
          42.303469,
          42.38267828,
          42.3664204,
          42.36300378,
          42.28297568,
          42.31886468,
          42.3867355,
          42.41427294,
          42.38240378,
          42.520897,
          42.3730798,
          42.37057753,
          42.3598254,
          42.3829443,
          42.310579,
          42.30791,
          42.39638681,
          42.4206487,
          42.3494261,
          42.339194,
          42.34521562,
          42.34953017,
          42.3722168,
          42.379011,
          42.3733288,
          42.373268,
          42.34435176,
          42.36599433,
          42.368019,
          42.377945,
          42.376369,
          42.366621,
          42.380287,
          42.36923907,
          42.5223714,
          42.377022,
          42.32464511,
          42.33741748,
          42.3602737,
          42.38004535,
          42.33658555,
          42.38165061,
          42.26286746,
          42.29606705,
          42.2568376,
          42.32176526,
          42.344827,
          42.344796,
          42.345901,
          42.37426714,
          42.36371276,
          42.32293117,
          42.30604563,
          42.34655124,
          42.32033974,
          42.40616124,
          42.36356016,
          42.36242784,
          42.348706,
          42.36955298,
          42.29376656,
          42.51142784,
          42.36346469,
          42.34369056,
          42.330528,
          42.34734473,
          42.370677,
          42.38674802,
          42.363871,
          42.397828,
          42.40935396,
          42.338629,
          42.3572185,
          42.3977834,
          42.375603,
          42.380857,
          42.411709,
          42.37487847,
          42.3629016,
          42.426541,
          42.34012243,
          42.38066931,
          42.324173,
          42.36135838,
          42.41420213,
          42.40726052,
          42.39120972,
          42.34135616,
          42.340814,
          42.2773889,
          42.267902,
          42.36884408,
          42.36774122,
          42.5180352,
          42.417724,
          42.38042947,
          42.3581,
          42.36054174,
          42.36085937,
          42.3595732,
          42.36213123,
          42.35560121,
          42.32143814,
          42.278747,
          42.28072514,
          42.37478629,
          42.28484472,
          42.35553628,
          42.336448,
          42.36769018,
          42.365673,
          42.316902,
          42.35732922,
          42.348717,
          42.326599,
          42.32206566,
          42.33620337,
          42.36762049,
          42.36068456,
          42.29118035,
          42.341814,
          42.42386,
          42.35057,
          42.35766248,
          42.35847764,
          42.3339227,
          42.36224179,
          42.366277,
          42.36161932,
          42.386781,
          42.40715656,
          42.40449,
          42.352261,
          42.347241,
          42.35182807,
          42.29442579,
          42.37927325,
          42.3502102,
          42.3650112,
          42.387995,
          42.36411904,
          42.35585436,
          42.400877,
          42.34652004,
          42.354659,
          42.41606457,
          42.38736954,
          42.40741,
          42.408088,
          42.392766,
          42.34827839,
          42.36644674,
          42.29116853,
          42.287072,
          42.28630716,
          42.2645666,
          42.357143,
          42.331184,
          42.31787329,
          42.33624445,
          42.317642,
          42.32760387,
          42.52189284,
          42.523994,
          42.52345239,
          42.50182399,
          42.503332,
          42.53466911,
          42.3106,
          42.35317809,
          42.34881026,
          42.35148193,
          42.36860524,
          42.33584613,
          42.34854543,
          42.292917,
          42.51836788,
          42.35775309,
          42.349496,
          42.39239749,
          42.36426344,
          42.386844,
          42.39189812,
          42.3864,
          42.39044622,
          42.335741,
          42.341332,
          42.352175,
          42.378338,
          42.27748444,
          42.34619708,
          42.33329255,
          42.344137,
          42.316966,
          42.34954403,
          42.351146,
          42.38445226,
          42.40833706,
          42.358155,
          42.3529457,
          42.41250451,
          42.32039374,
          42.2945833,
          42.33137017,
          42.40231703,
          42.31930943,
          42.370744,
          42.344792,
          42.34679008,
          42.28621295,
          42.36544486,
          42.40016805,
          42.345392,
          42.35668335,
          42.3384318,
          42.34254914,
          42.354979,
          42.343749,
          42.401697,
          42.353334,
          42.3796479,
          42.380078,
          42.32956868,
          42.31218918,
          42.36264779,
          42.31727474,
          42.31869734,
          42.36473899,
          42.38536765,
          42.37250865,
          42.3391085,
          42.33595898,
          42.31242399,
          42.324081,
          42.371848,
          42.40933007,
          42.33985827,
          42.29916498,
          42.34895285,
          42.35389024,
          42.28072815,
          42.34286835,
          42.28198628,
          42.33509899,
          42.332817,
          42.3817508,
          42.34303291,
          42.3385146,
          42.290333,
          42.35145812,
          42.2771947,
          42.34157472,
          42.351586,
          42.36526032,
          42.35410408,
          42.367621,
          42.4023682,
          42.33758601,
          42.36590788,
          42.3496005,
          42.36178741,
          42.33286288,
          42.306539,
          42.38567579
         ],
         "legendgroup": "",
         "lon": [
          -71.11467361,
          -71.17569387,
          -71.129164,
          -71.10878613,
          -71.095003,
          -71.10402523,
          -71.104412,
          -71.11924,
          -71.109725,
          -71.03987017,
          -71.14871614,
          -71.06823265,
          -71.10391524,
          -71.15412891,
          -71.0801376,
          -71.143941,
          -71.02390923,
          -71.1099878,
          -71.054689,
          -71.05726346,
          -71.0151367,
          -71.0312891,
          -71.0689446,
          -71.14260614,
          -71.139459,
          -71.11687703,
          -71.11990392,
          -71.0875672,
          -71.08822,
          -71.05699851,
          -71.05142981,
          -71.05822917,
          -71.12119539,
          -71.15764854,
          -71.0641389,
          -71.07746601,
          -71.24775946,
          -71.108279,
          -71.07657015,
          -71.18604537,
          -71.11102236,
          -71.0901582,
          -71.20668411,
          -71.069849,
          -71.08981088,
          -71.13894682,
          -71.10707223,
          -71.1367213,
          -71.14636928,
          -71.0334456,
          -71.01619095,
          -71.01063069,
          -71.08995434,
          -71.08633604,
          -71.06959369,
          -71.09372552,
          -71.090986,
          -71.07798629,
          -71.057629,
          -71.16708934,
          -71.04535997,
          -71.04102008,
          -71.14167538,
          -71.07306711,
          -71.06512249,
          -71.07060295,
          -71.07329249,
          -71.07744187,
          -71.07946779,
          -71.08192384,
          -71.09732501,
          -71.08678415,
          -71.10407918,
          -71.1296752,
          -71.15027189,
          -71.13776207,
          -71.08287079,
          -71.0542647,
          -71.06373843,
          -71.09850592,
          -71.03085594,
          -71.1400932,
          -71.0654676,
          -71.05260458,
          -71.0782814,
          -71.12046447,
          -71.11626681,
          -71.06905997,
          -71.100694,
          -71.20236039,
          -71.076198,
          -71.09759867,
          -71.111075,
          -71.094445,
          -71.06528744,
          -71.07679278,
          -71.06092191,
          -71.03070972,
          -71.07337901,
          -71.105495,
          -71.1031,
          -71.03918549,
          -71.1934421,
          -71.15728851,
          -71.1142981,
          -71.15344755,
          -71.18641943,
          -71.07118962,
          -71.054812,
          -71.03857018,
          -71.0476264,
          -71.03987179,
          -71.07200496,
          -71.059367,
          -71.062679,
          -71.08582377,
          -71.09171927,
          -71.132446,
          -71.07561663,
          -71.12444,
          -71.1506152,
          -71.05524927,
          -71.071111,
          -71.10061884,
          -71.0729,
          -71.05060093,
          -71.07648162,
          -71.11903489,
          -71.12126246,
          -71.15168806,
          -71.13275303,
          -71.13997217,
          -70.906271,
          -71.11133695,
          -71.105587,
          -71.1538877,
          -71.05752244,
          -71.03764,
          -71.04930013,
          -71.10853672,
          -71.123338,
          -71.15683131,
          -71.07739207,
          -71.11068249,
          -71.056067,
          -71.11543,
          -71.12536222,
          -71.10809952,
          -71.132788,
          -71.139019,
          -71.07782811,
          -71.123024,
          -71.027733,
          -71.0972821,
          -71.14797131,
          -71.05737627,
          -71.08386572,
          -71.075354,
          -71.06198,
          -71.039431,
          -71.08318716,
          -71.08714389,
          -71.068607,
          -71.069957,
          -71.098634,
          -71.1169414,
          -71.0724476,
          -70.905535,
          -71.0565029,
          -71.0445714,
          -71.15988486,
          -71.02495,
          -71.06068976,
          -71.08767617,
          -71.08071685,
          -71.114249,
          -70.88693,
          -71.090511,
          -71.09039426,
          -71.07929528,
          -71.092225,
          -71.085347,
          -71.14347895,
          -71.0885418,
          -71.08974038,
          -71.05466698,
          -71.04536798,
          -71.0946444,
          -71.04479656,
          -71.03024304,
          -70.910528,
          -71.08634234,
          -71.0355854,
          -71.05979576,
          -71.12449831,
          -71.107341,
          -71.080952,
          -71.12011306,
          -71.0437126,
          -71.0620996,
          -71.06975,
          -71.06384031,
          -71.13022771,
          -71.12188071,
          -71.119945,
          -71.12098601,
          -71.118579,
          -71.12490356,
          -71.09522222,
          -71.1242,
          -71.116865,
          -71.114025,
          -71.114214,
          -71.125107,
          -71.11687034,
          -70.8903331,
          -71.056605,
          -71.12135231,
          -71.10286117,
          -71.12852452,
          -71.07304573,
          -71.09886996,
          -71.13426981,
          -71.12163126,
          -71.116012,
          -71.122509,
          -71.10984161,
          -71.028664,
          -71.031614,
          -71.063187,
          -71.10026479,
          -71.12459779,
          -71.10014141,
          -71.11570891,
          -71.12833211,
          -71.05118036,
          -71.06041655,
          -71.08216792,
          -71.08495474,
          -71.097009,
          -71.08579015,
          -71.1365658,
          -70.89183301,
          -71.10057324,
          -71.10235287,
          -71.192861,
          -71.10016808,
          -71.076529,
          -71.11901879,
          -71.050877,
          -71.130516,
          -71.14906519,
          -71.1065,
          -71.11387163,
          -71.10594004,
          -71.064608,
          -71.070629,
          -71.110444,
          -71.06383499,
          -71.0915669,
          -71.073179,
          -71.12070564,
          -71.03907316,
          -71.10196,
          -71.09670274,
          -71.15051883,
          -71.14382132,
          -71.12260755,
          -71.08336953,
          -71.0816197,
          -71.09325,
          -71.093641,
          -71.03977829,
          -71.03335975,
          -70.89570075,
          -71.108102,
          -71.06055722,
          -71.093198,
          -71.08669817,
          -71.08551858,
          -71.10129476,
          -71.09115601,
          -71.10394478,
          -71.09126061,
          -71.080286,
          -71.08617242,
          -71.13320231,
          -71.11874517,
          -71.0728687,
          -71.023739,
          -71.07116282,
          -71.064263,
          -71.091946,
          -71.1467354,
          -71.085954,
          -71.066498,
          -71.20637298,
          -71.20779455,
          -71.15656637,
          -71.201462,
          -71.11773666,
          -71.090179,
          -71.067793,
          -71.166491,
          -71.10841334,
          -71.0613513,
          -71.10446509,
          -71.08311072,
          -71.09169,
          -71.08043551,
          -71.006098,
          -70.9927243,
          -71.123413,
          -71.123831,
          -71.105301,
          -71.06781138,
          -71.07821761,
          -71.10341903,
          -71.0446705,
          -71.03528559,
          -71.119084,
          -71.02876782,
          -71.05459746,
          -71.116772,
          -71.08065777,
          -71.053181,
          -71.15336637,
          -71.12761001,
          -71.0139,
          -71.008942,
          -71.129042,
          -71.08044855,
          -71.07654601,
          -71.0630089,
          -71.127754,
          -71.12820532,
          -71.1145523,
          -71.050699,
          -71.095171,
          -71.08243078,
          -71.08798563,
          -71.056664,
          -71.1108917,
          -70.88069111,
          -70.89684,
          -70.89611113,
          -70.89478076,
          -70.891444,
          -70.8702144,
          -71.0539,
          -71.04817357,
          -71.04167744,
          -71.04436085,
          -71.09930186,
          -71.08038157,
          -71.06559185,
          -71.06575,
          -70.88952363,
          -71.10393405,
          -71.10057592,
          -71.15058332,
          -71.1182757,
          -71.09812,
          -71.09745376,
          -71.09601,
          -71.10856622,
          -71.03877,
          -71.076847,
          -71.055547,
          -71.048927,
          -71.16341468,
          -71.10728681,
          -71.10124648,
          -71.052608,
          -71.104374,
          -71.07242074,
          -71.066289,
          -71.07514855,
          -70.99804848,
          -71.052163,
          -71.05656401,
          -71.05842225,
          -71.05355408,
          -71.087111,
          -71.12688361,
          -71.12671129,
          -71.09639924,
          -71.044201,
          -71.044024,
          -71.14549814,
          -71.07942931,
          -71.08277142,
          -71.14456963,
          -71.069616,
          -71.06166646,
          -71.0816905,
          -71.07421449,
          -71.063348,
          -71.062256,
          -71.106128,
          -71.137313,
          -71.09540476,
          -71.090098,
          -71.19367272,
          -71.03648586,
          -71.10006094,
          -71.06537004,
          -71.06978148,
          -71.05934903,
          -71.13775671,
          -71.11305356,
          -71.0514432,
          -71.046229,
          -71.09616905,
          -71.083235,
          -71.060292,
          -71.06381878,
          -71.13421171,
          -71.07345872,
          -71.16031677,
          -71.19943707,
          -71.13423757,
          -71.14127841,
          -71.07147925,
          -71.07903779,
          -71.081198,
          -71.0839523,
          -71.0668873,
          -71.07404083,
          -71.071806,
          -71.20764971,
          -71.06955614,
          -71.0689044,
          -71.04569256,
          -71.18573324,
          -71.21382214,
          -71.187936,
          -71.07573182,
          -71.09627098,
          -71.06446669,
          -71.22627497,
          -71.14393111,
          -71.09218862,
          -71.107669,
          -71.11412136
         ],
         "marker": {
          "color": "fuchsia"
         },
         "mode": "markers",
         "name": "",
         "showlegend": false,
         "subplot": "mapbox",
         "type": "scattermapbox"
        }
       ],
       "layout": {
        "height": 900,
        "legend": {
         "tracegroupgap": 0
        },
        "mapbox": {
         "center": {
          "lat": 42.35781426449438,
          "lon": -71.08743413069664
         },
         "domain": {
          "x": [
           0,
           1
          ],
          "y": [
           0,
           1
          ]
         },
         "style": "open-street-map",
         "zoom": 12
        },
        "margin": {
         "b": 0,
         "l": 0,
         "r": 0,
         "t": 0
        },
        "template": {
         "data": {
          "bar": [
           {
            "error_x": {
             "color": "#2a3f5f"
            },
            "error_y": {
             "color": "#2a3f5f"
            },
            "marker": {
             "line": {
              "color": "#E5ECF6",
              "width": 0.5
             },
             "pattern": {
              "fillmode": "overlay",
              "size": 10,
              "solidity": 0.2
             }
            },
            "type": "bar"
           }
          ],
          "barpolar": [
           {
            "marker": {
             "line": {
              "color": "#E5ECF6",
              "width": 0.5
             },
             "pattern": {
              "fillmode": "overlay",
              "size": 10,
              "solidity": 0.2
             }
            },
            "type": "barpolar"
           }
          ],
          "carpet": [
           {
            "aaxis": {
             "endlinecolor": "#2a3f5f",
             "gridcolor": "white",
             "linecolor": "white",
             "minorgridcolor": "white",
             "startlinecolor": "#2a3f5f"
            },
            "baxis": {
             "endlinecolor": "#2a3f5f",
             "gridcolor": "white",
             "linecolor": "white",
             "minorgridcolor": "white",
             "startlinecolor": "#2a3f5f"
            },
            "type": "carpet"
           }
          ],
          "choropleth": [
           {
            "colorbar": {
             "outlinewidth": 0,
             "ticks": ""
            },
            "type": "choropleth"
           }
          ],
          "contour": [
           {
            "colorbar": {
             "outlinewidth": 0,
             "ticks": ""
            },
            "colorscale": [
             [
              0,
              "#0d0887"
             ],
             [
              0.1111111111111111,
              "#46039f"
             ],
             [
              0.2222222222222222,
              "#7201a8"
             ],
             [
              0.3333333333333333,
              "#9c179e"
             ],
             [
              0.4444444444444444,
              "#bd3786"
             ],
             [
              0.5555555555555556,
              "#d8576b"
             ],
             [
              0.6666666666666666,
              "#ed7953"
             ],
             [
              0.7777777777777778,
              "#fb9f3a"
             ],
             [
              0.8888888888888888,
              "#fdca26"
             ],
             [
              1,
              "#f0f921"
             ]
            ],
            "type": "contour"
           }
          ],
          "contourcarpet": [
           {
            "colorbar": {
             "outlinewidth": 0,
             "ticks": ""
            },
            "type": "contourcarpet"
           }
          ],
          "heatmap": [
           {
            "colorbar": {
             "outlinewidth": 0,
             "ticks": ""
            },
            "colorscale": [
             [
              0,
              "#0d0887"
             ],
             [
              0.1111111111111111,
              "#46039f"
             ],
             [
              0.2222222222222222,
              "#7201a8"
             ],
             [
              0.3333333333333333,
              "#9c179e"
             ],
             [
              0.4444444444444444,
              "#bd3786"
             ],
             [
              0.5555555555555556,
              "#d8576b"
             ],
             [
              0.6666666666666666,
              "#ed7953"
             ],
             [
              0.7777777777777778,
              "#fb9f3a"
             ],
             [
              0.8888888888888888,
              "#fdca26"
             ],
             [
              1,
              "#f0f921"
             ]
            ],
            "type": "heatmap"
           }
          ],
          "heatmapgl": [
           {
            "colorbar": {
             "outlinewidth": 0,
             "ticks": ""
            },
            "colorscale": [
             [
              0,
              "#0d0887"
             ],
             [
              0.1111111111111111,
              "#46039f"
             ],
             [
              0.2222222222222222,
              "#7201a8"
             ],
             [
              0.3333333333333333,
              "#9c179e"
             ],
             [
              0.4444444444444444,
              "#bd3786"
             ],
             [
              0.5555555555555556,
              "#d8576b"
             ],
             [
              0.6666666666666666,
              "#ed7953"
             ],
             [
              0.7777777777777778,
              "#fb9f3a"
             ],
             [
              0.8888888888888888,
              "#fdca26"
             ],
             [
              1,
              "#f0f921"
             ]
            ],
            "type": "heatmapgl"
           }
          ],
          "histogram": [
           {
            "marker": {
             "pattern": {
              "fillmode": "overlay",
              "size": 10,
              "solidity": 0.2
             }
            },
            "type": "histogram"
           }
          ],
          "histogram2d": [
           {
            "colorbar": {
             "outlinewidth": 0,
             "ticks": ""
            },
            "colorscale": [
             [
              0,
              "#0d0887"
             ],
             [
              0.1111111111111111,
              "#46039f"
             ],
             [
              0.2222222222222222,
              "#7201a8"
             ],
             [
              0.3333333333333333,
              "#9c179e"
             ],
             [
              0.4444444444444444,
              "#bd3786"
             ],
             [
              0.5555555555555556,
              "#d8576b"
             ],
             [
              0.6666666666666666,
              "#ed7953"
             ],
             [
              0.7777777777777778,
              "#fb9f3a"
             ],
             [
              0.8888888888888888,
              "#fdca26"
             ],
             [
              1,
              "#f0f921"
             ]
            ],
            "type": "histogram2d"
           }
          ],
          "histogram2dcontour": [
           {
            "colorbar": {
             "outlinewidth": 0,
             "ticks": ""
            },
            "colorscale": [
             [
              0,
              "#0d0887"
             ],
             [
              0.1111111111111111,
              "#46039f"
             ],
             [
              0.2222222222222222,
              "#7201a8"
             ],
             [
              0.3333333333333333,
              "#9c179e"
             ],
             [
              0.4444444444444444,
              "#bd3786"
             ],
             [
              0.5555555555555556,
              "#d8576b"
             ],
             [
              0.6666666666666666,
              "#ed7953"
             ],
             [
              0.7777777777777778,
              "#fb9f3a"
             ],
             [
              0.8888888888888888,
              "#fdca26"
             ],
             [
              1,
              "#f0f921"
             ]
            ],
            "type": "histogram2dcontour"
           }
          ],
          "mesh3d": [
           {
            "colorbar": {
             "outlinewidth": 0,
             "ticks": ""
            },
            "type": "mesh3d"
           }
          ],
          "parcoords": [
           {
            "line": {
             "colorbar": {
              "outlinewidth": 0,
              "ticks": ""
             }
            },
            "type": "parcoords"
           }
          ],
          "pie": [
           {
            "automargin": true,
            "type": "pie"
           }
          ],
          "scatter": [
           {
            "fillpattern": {
             "fillmode": "overlay",
             "size": 10,
             "solidity": 0.2
            },
            "type": "scatter"
           }
          ],
          "scatter3d": [
           {
            "line": {
             "colorbar": {
              "outlinewidth": 0,
              "ticks": ""
             }
            },
            "marker": {
             "colorbar": {
              "outlinewidth": 0,
              "ticks": ""
             }
            },
            "type": "scatter3d"
           }
          ],
          "scattercarpet": [
           {
            "marker": {
             "colorbar": {
              "outlinewidth": 0,
              "ticks": ""
             }
            },
            "type": "scattercarpet"
           }
          ],
          "scattergeo": [
           {
            "marker": {
             "colorbar": {
              "outlinewidth": 0,
              "ticks": ""
             }
            },
            "type": "scattergeo"
           }
          ],
          "scattergl": [
           {
            "marker": {
             "colorbar": {
              "outlinewidth": 0,
              "ticks": ""
             }
            },
            "type": "scattergl"
           }
          ],
          "scattermapbox": [
           {
            "marker": {
             "colorbar": {
              "outlinewidth": 0,
              "ticks": ""
             }
            },
            "type": "scattermapbox"
           }
          ],
          "scatterpolar": [
           {
            "marker": {
             "colorbar": {
              "outlinewidth": 0,
              "ticks": ""
             }
            },
            "type": "scatterpolar"
           }
          ],
          "scatterpolargl": [
           {
            "marker": {
             "colorbar": {
              "outlinewidth": 0,
              "ticks": ""
             }
            },
            "type": "scatterpolargl"
           }
          ],
          "scatterternary": [
           {
            "marker": {
             "colorbar": {
              "outlinewidth": 0,
              "ticks": ""
             }
            },
            "type": "scatterternary"
           }
          ],
          "surface": [
           {
            "colorbar": {
             "outlinewidth": 0,
             "ticks": ""
            },
            "colorscale": [
             [
              0,
              "#0d0887"
             ],
             [
              0.1111111111111111,
              "#46039f"
             ],
             [
              0.2222222222222222,
              "#7201a8"
             ],
             [
              0.3333333333333333,
              "#9c179e"
             ],
             [
              0.4444444444444444,
              "#bd3786"
             ],
             [
              0.5555555555555556,
              "#d8576b"
             ],
             [
              0.6666666666666666,
              "#ed7953"
             ],
             [
              0.7777777777777778,
              "#fb9f3a"
             ],
             [
              0.8888888888888888,
              "#fdca26"
             ],
             [
              1,
              "#f0f921"
             ]
            ],
            "type": "surface"
           }
          ],
          "table": [
           {
            "cells": {
             "fill": {
              "color": "#EBF0F8"
             },
             "line": {
              "color": "white"
             }
            },
            "header": {
             "fill": {
              "color": "#C8D4E3"
             },
             "line": {
              "color": "white"
             }
            },
            "type": "table"
           }
          ]
         },
         "layout": {
          "annotationdefaults": {
           "arrowcolor": "#2a3f5f",
           "arrowhead": 0,
           "arrowwidth": 1
          },
          "autotypenumbers": "strict",
          "coloraxis": {
           "colorbar": {
            "outlinewidth": 0,
            "ticks": ""
           }
          },
          "colorscale": {
           "diverging": [
            [
             0,
             "#8e0152"
            ],
            [
             0.1,
             "#c51b7d"
            ],
            [
             0.2,
             "#de77ae"
            ],
            [
             0.3,
             "#f1b6da"
            ],
            [
             0.4,
             "#fde0ef"
            ],
            [
             0.5,
             "#f7f7f7"
            ],
            [
             0.6,
             "#e6f5d0"
            ],
            [
             0.7,
             "#b8e186"
            ],
            [
             0.8,
             "#7fbc41"
            ],
            [
             0.9,
             "#4d9221"
            ],
            [
             1,
             "#276419"
            ]
           ],
           "sequential": [
            [
             0,
             "#0d0887"
            ],
            [
             0.1111111111111111,
             "#46039f"
            ],
            [
             0.2222222222222222,
             "#7201a8"
            ],
            [
             0.3333333333333333,
             "#9c179e"
            ],
            [
             0.4444444444444444,
             "#bd3786"
            ],
            [
             0.5555555555555556,
             "#d8576b"
            ],
            [
             0.6666666666666666,
             "#ed7953"
            ],
            [
             0.7777777777777778,
             "#fb9f3a"
            ],
            [
             0.8888888888888888,
             "#fdca26"
            ],
            [
             1,
             "#f0f921"
            ]
           ],
           "sequentialminus": [
            [
             0,
             "#0d0887"
            ],
            [
             0.1111111111111111,
             "#46039f"
            ],
            [
             0.2222222222222222,
             "#7201a8"
            ],
            [
             0.3333333333333333,
             "#9c179e"
            ],
            [
             0.4444444444444444,
             "#bd3786"
            ],
            [
             0.5555555555555556,
             "#d8576b"
            ],
            [
             0.6666666666666666,
             "#ed7953"
            ],
            [
             0.7777777777777778,
             "#fb9f3a"
            ],
            [
             0.8888888888888888,
             "#fdca26"
            ],
            [
             1,
             "#f0f921"
            ]
           ]
          },
          "colorway": [
           "#636efa",
           "#EF553B",
           "#00cc96",
           "#ab63fa",
           "#FFA15A",
           "#19d3f3",
           "#FF6692",
           "#B6E880",
           "#FF97FF",
           "#FECB52"
          ],
          "font": {
           "color": "#2a3f5f"
          },
          "geo": {
           "bgcolor": "white",
           "lakecolor": "white",
           "landcolor": "#E5ECF6",
           "showlakes": true,
           "showland": true,
           "subunitcolor": "white"
          },
          "hoverlabel": {
           "align": "left"
          },
          "hovermode": "closest",
          "mapbox": {
           "style": "light"
          },
          "paper_bgcolor": "white",
          "plot_bgcolor": "#E5ECF6",
          "polar": {
           "angularaxis": {
            "gridcolor": "white",
            "linecolor": "white",
            "ticks": ""
           },
           "bgcolor": "#E5ECF6",
           "radialaxis": {
            "gridcolor": "white",
            "linecolor": "white",
            "ticks": ""
           }
          },
          "scene": {
           "xaxis": {
            "backgroundcolor": "#E5ECF6",
            "gridcolor": "white",
            "gridwidth": 2,
            "linecolor": "white",
            "showbackground": true,
            "ticks": "",
            "zerolinecolor": "white"
           },
           "yaxis": {
            "backgroundcolor": "#E5ECF6",
            "gridcolor": "white",
            "gridwidth": 2,
            "linecolor": "white",
            "showbackground": true,
            "ticks": "",
            "zerolinecolor": "white"
           },
           "zaxis": {
            "backgroundcolor": "#E5ECF6",
            "gridcolor": "white",
            "gridwidth": 2,
            "linecolor": "white",
            "showbackground": true,
            "ticks": "",
            "zerolinecolor": "white"
           }
          },
          "shapedefaults": {
           "line": {
            "color": "#2a3f5f"
           }
          },
          "ternary": {
           "aaxis": {
            "gridcolor": "white",
            "linecolor": "white",
            "ticks": ""
           },
           "baxis": {
            "gridcolor": "white",
            "linecolor": "white",
            "ticks": ""
           },
           "bgcolor": "#E5ECF6",
           "caxis": {
            "gridcolor": "white",
            "linecolor": "white",
            "ticks": ""
           }
          },
          "title": {
           "x": 0.05
          },
          "xaxis": {
           "automargin": true,
           "gridcolor": "white",
           "linecolor": "white",
           "ticks": "",
           "title": {
            "standoff": 15
           },
           "zerolinecolor": "white",
           "zerolinewidth": 2
          },
          "yaxis": {
           "automargin": true,
           "gridcolor": "white",
           "linecolor": "white",
           "ticks": "",
           "title": {
            "standoff": 15
           },
           "zerolinecolor": "white",
           "zerolinewidth": 2
          }
         }
        }
       }
      },
      "text/html": [
       "<div>                            <div id=\"f3e05f47-3caf-46eb-9dd9-e059217d3a27\" class=\"plotly-graph-div\" style=\"height:900px; width:100%;\"></div>            <script type=\"text/javascript\">                require([\"plotly\"], function(Plotly) {                    window.PLOTLYENV=window.PLOTLYENV || {};                                    if (document.getElementById(\"f3e05f47-3caf-46eb-9dd9-e059217d3a27\")) {                    Plotly.newPlot(                        \"f3e05f47-3caf-46eb-9dd9-e059217d3a27\",                        [{\"customdata\":[[\"K32015\",15,2021.0,\"Brookline\"],[\"W32006\",11,2021.0,\"Watertown\"],[\"A32019\",18,2014.0,\"Boston\"],[\"S32035\",19,2018.0,\"Somerville\"],[\"C32094\",17,2020.0,\"Boston\"],[\"S32023\",15,2018.0,\"Somerville\"],[\"M32026\",23,2013.0,\"Cambridge\"],[\"C32106\",18,2021.0,\"Boston\"],[\"C32105\",18,2021.0,\"Boston\"],[\"C32091\",19,2020.0,\"Boston\"],[\"M32054\",25,2018.0,\"Cambridge\"],[\"V32001\",15,2019.0,\"Everett\"],[\"B32060\",16,2019.0,\"Boston\"],[\"M32060\",19,2018.0,\"Cambridge\"],[\"M32064\",19,2019.0,\"Cambridge\"],[\"M32058\",27,2018.0,\"Cambridge\"],[\"H32006\",11,2021.0,\"Chelsea\"],[\"M32073\",19,2021.0,\"Cambridge\"],[\"C32098\",0,2021.0,\"Boston\"],[\"C32065\",14,2019.0,\"Boston\"],[\"A32054\",19,2022.0,\"Boston\"],[\"A32032\",15,2016.0,\"Boston\"],[\"C32061\",15,2019.0,\"Boston\"],[\"M32046\",17,2016.0,\"Cambridge\"],[\"M32033\",23,2014.0,\"Cambridge\"],[\"C32079\",15,2019.0,\"Boston\"],[\"C32101\",19,2021.0,\"Boston\"],[\"M32059\",19,2018.0,\"Cambridge\"],[\"M32037\",19,2012.0,\"Cambridge\"],[\"C32012\",15,2013.0,\"Boston\"],[\"B32004\",23,2011.0,\"Boston\"],[\"D32004\",31,2011.0,\"Boston\"],[\"C32048\",15,2018.0,\"Boston\"],[\"W32004\",11,2020.0,\"Watertown\"],[\"C32062\",15,2019.0,\"Boston\"],[\"S32018\",15,2018.0,\"Somerville\"],[\"N32015\",15,2021.0,\"Newton\"],[\"A32003\",11,2011.0,\"Boston\"],[\"C32003\",19,2011.0,\"Boston\"],[\"N32003\",11,2020.0,\"Newton\"],[\"S32007\",19,2012.0,\"Somerville\"],[\"B32055\",15,2018.0,\"Boston\"],[\"N32012\",15,2021.0,\"Newton\"],[\"D32024\",19,2013.0,\"Boston\"],[\"B32016\",19,2011.0,\"Boston\"],[\"K32002\",15,2012.0,\"Brookline\"],[\"S32003\",19,2012.0,\"Somerville\"],[\"C32059\",15,2018.0,\"Boston\"],[\"C32095\",19,2021.0,\"Boston\"],[\"H32002\",11,2021.0,\"Chelsea\"],[\"A32028\",15,2016.0,\"Boston\"],[\"A32039\",17,2018.0,\"Boston\"],[\"M32067\",19,2019.0,\"Cambridge\"],[\"M32027\",19,2013.0,\"Cambridge\"],[\"D32050\",15,2019.0,\"Boston\"],[\"C32044\",19,2018.0,\"Boston\"],[\"C32092\",18,2020.0,\"Boston\"],[\"B32057\",15,2018.0,\"Boston\"],[\"B32008\",25,2011.0,\"Boston\"],[\"N32009\",17,2021.0,\"Newton\"],[\"D32018\",23,2012.0,\"Boston\"],[\"A32036\",15,2016.0,\"Boston\"],[\"A32045\",7,2019.0,\"Boston\"],[\"C32002\",19,2019.0,\"Boston\"],[\"B32031\",15,2016.0,\"Boston\"],[\"D32007\",31,2011.0,\"Boston\"],[\"D32013\",15,2011.0,\"Boston\"],[\"D32055\",23,2013.0,\"Boston\"],[\"D32046\",19,2018.0,\"Boston\"],[\"C32008\",3,2011.0,\"Boston\"],[\"B32034\",15,2018.0,\"Boston\"],[\"B32018\",15,2011.0,\"Boston\"],[\"B32013\",15,2011.0,\"Boston\"],[\"D32058\",19,2022.0,\"Boston\"],[\"D32028\",17,2015.0,\"Boston\"],[\"A32005\",15,2011.0,\"Boston\"],[\"M32082\",19,2022.0,\"Cambridge\"],[\"A32047\",15,2020.0,\"Boston\"],[\"V32011\",15,2019.0,\"Everett\"],[\"S32016\",19,2018.0,\"Somerville\"],[\"H32004\",11,2021.0,\"Chelsea\"],[\"L32004\",11,2020.0,\"Arlington\"],[\"V32004\",15,2019.0,\"Everett\"],[\"V32008\",14,2019.0,\"Everett\"],[\"S32014\",19,2016.0,\"Somerville\"],[\"K32005\",15,2016.0,\"Brookline\"],[\"K32003\",19,2012.0,\"Brookline\"],[\"A32023\",23,2015.0,\"Boston\"],[\"B32020\",15,2013.0,\"Boston\"],[\"N32011\",12,2021.0,\"Newton\"],[\"M32077\",23,2021.0,\"Cambridge\"],[\"M32052\",19,2017.0,\"Cambridge\"],[\"M32013\",19,2012.0,\"Cambridge\"],[\"M32007\",15,2012.0,\"Cambridge\"],[\"D32000\",15,2011.0,\"Boston\"],[\"M32019\",15,2012.0,\"Cambridge\"],[\"A32046\",18,2020.0,\"Boston\"],[\"H32001\",12,2021.0,\"Chelsea\"],[\"C32088\",15,2019.0,\"Boston\"],[\"M32012\",17,2012.0,\"Cambridge\"],[\"M32011\",19,2012.0,\"Cambridge\"],[\"A32041\",15,2019.0,\"Boston\"],[\"N32018\",11,2022.0,\"Newton\"],[\"C32086\",19,2019.0,\"Boston\"],[\"E32008\",15,2018.0,\"Boston\"],[\"C32085\",19,2019.0,\"Boston\"],[\"N32000\",11,2020.0,\"Newton\"],[\"D32016\",19,2011.0,\"Boston\"],[\"D32039\",23,2018.0,\"Boston\"],[\"H32003\",11,2021.0,\"Chelsea\"],[\"V32009\",15,2019.0,\"Everett\"],[\"H32005\",11,2021.0,\"Chelsea\"],[\"M32049\",23,2016.0,\"Cambridge\"],[\"D32015\",19,2011.0,\"Boston\"],[\"D32019\",19,2012.0,\"Boston\"],[\"B32005\",19,2011.0,\"Boston\"],[\"C32099\",19,2021.0,\"Boston\"],[\"S32010\",15,2013.0,\"Somerville\"],[\"D32047\",19,2019.0,\"Boston\"],[\"C32104\",16,2021.0,\"Boston\"],[\"B32035\",15,2018.0,\"Boston\"],[\"D32057\",18,2021.0,\"Boston\"],[\"C32055\",17,2018.0,\"Boston\"],[\"B32006\",15,2011.0,\"Boston\"],[\"B32029\",15,2016.0,\"Boston\"],[\"C32052\",19,2018.0,\"Boston\"],[\"C32077\",19,2019.0,\"Boston\"],[\"A32002\",15,2011.0,\"Boston\"],[\"K32006\",15,2017.0,\"Brookline\"],[\"D32033\",19,2018.0,\"Boston\"],[\"A32017\",15,2012.0,\"Boston\"],[\"D32034\",15,2018.0,\"Boston\"],[\"T32013\",9,2022.0,\"Salem\"],[\"S32022\",15,2018.0,\"Somerville\"],[\"S32040\",19,2020.0,\"Somerville\"],[\"M32074\",19,2021.0,\"Cambridge\"],[\"D32009\",23,2011.0,\"Boston\"],[\"C32032\",15,2016.0,\"Boston\"],[\"C32010\",19,2011.0,\"Boston\"],[\"S32004\",23,2012.0,\"Somerville\"],[\"K32001\",19,2012.0,\"Brookline\"],[\"W32001\",12,2020.0,\"Watertown\"],[\"D32005\",33,2011.0,\"Boston\"],[\"S32037\",19,2019.0,\"Somerville\"],[\"D32010\",19,2011.0,\"Boston\"],[\"E32001\",15,2013.0,\"Boston\"],[\"K32009\",15,2018.0,\"Brookline\"],[\"M32030\",19,2014.0,\"Cambridge\"],[\"M32031\",17,2014.0,\"Cambridge\"],[\"M32075\",19,2021.0,\"Cambridge\"],[\"D32045\",19,2018.0,\"Boston\"],[\"S32006\",25,2012.0,\"Somerville\"],[\"A32051\",16,2020.0,\"Boston\"],[\"B32037\",19,2018.0,\"Boston\"],[\"M32066\",23,2019.0,\"Cambridge\"],[\"C32009\",15,2011.0,\"Boston\"],[\"B32017\",18,2011.0,\"Boston\"],[\"C32015\",15,2012.0,\"Boston\"],[\"C32018\",19,2013.0,\"Boston\"],[\"A32031\",16,2016.0,\"Boston\"],[\"S32017\",15,2018.0,\"Somerville\"],[\"S32038\",15,2019.0,\"Somerville\"],[\"A32022\",19,2015.0,\"Boston\"],[\"M32034\",23,2014.0,\"Cambridge\"],[\"E32004\",15,2013.0,\"Boston\"],[\"S32039\",18,2019.0,\"Somerville\"],[\"V32005\",15,2019.0,\"Everett\"],[\"T32011\",11,2022.0,\"Salem\"],[\"V32003\",16,2019.0,\"Everett\"],[\"A32000\",15,2011.0,\"Boston\"],[\"A32038\",15,2018.0,\"Boston\"],[\"C32051\",23,2018.0,\"Boston\"],[\"C32041\",10,2018.0,\"Boston\"],[\"B32064\",15,2022.0,\"Boston\"],[\"S32047\",19,2021.0,\"Somerville\"],[\"E32010\",40,2019.0,\"Boston\"],[\"T32010\",11,2022.0,\"Salem\"],[\"B32062\",15,2021.0,\"Boston\"],[\"S32015\",15,2018.0,\"Somerville\"],[\"C32037\",11,2018.0,\"Boston\"],[\"C32027\",15,2015.0,\"Boston\"],[\"C32030\",14,2015.0,\"Boston\"],[\"M32051\",17,2017.0,\"Cambridge\"],[\"M32078\",19,2022.0,\"Cambridge\"],[\"M32072\",19,2020.0,\"Cambridge\"],[\"C32040\",15,2018.0,\"Boston\"],[\"C32090\",19,2019.0,\"Boston\"],[\"S32046\",19,2021.0,\"Somerville\"],[\"V32006\",15,2019.0,\"Everett\"],[\"A32034\",19,2016.0,\"Boston\"],[\"T32014\",11,2022.0,\"Salem\"],[\"M32081\",19,2022.0,\"Cambridge\"],[\"A32049\",19,2020.0,\"Boston\"],[\"B32032\",35,2018.0,\"Boston\"],[\"M32068\",19,2020.0,\"Cambridge\"],[\"E32005\",23,2013.0,\"Boston\"],[\"B32028\",15,2016.0,\"Boston\"],[\"S32019\",15,2018.0,\"Somerville\"],[\"V32012\",11,2020.0,\"Everett\"],[\"D32043\",19,2018.0,\"Boston\"],[\"C32093\",19,2020.0,\"Boston\"],[\"C32057\",19,2018.0,\"Boston\"],[\"D32035\",15,2018.0,\"Boston\"],[\"M32016\",23,2012.0,\"Cambridge\"],[\"M32020\",19,2012.0,\"Cambridge\"],[\"M32017\",15,2012.0,\"Cambridge\"],[\"M32018\",19,2012.0,\"Cambridge\"],[\"K32017\",15,2021.0,\"Brookline\"],[\"M32055\",19,2018.0,\"Cambridge\"],[\"A32052\",15,2020.0,\"Boston\"],[\"M32023\",17,2012.0,\"Cambridge\"],[\"M32021\",15,2013.0,\"Cambridge\"],[\"M32014\",15,2012.0,\"Cambridge\"],[\"M32024\",19,2012.0,\"Cambridge\"],[\"M32038\",19,2012.0,\"Cambridge\"],[\"T32008\",9,2022.0,\"Salem\"],[\"D32026\",19,2013.0,\"Boston\"],[\"K32010\",15,2019.0,\"Brookline\"],[\"B32003\",25,2011.0,\"Boston\"],[\"A32040\",15,2018.0,\"Boston\"],[\"D32060\",23,2022.0,\"Boston\"],[\"B32033\",15,2018.0,\"Boston\"],[\"M32044\",19,2017.0,\"Cambridge\"],[\"C32100\",19,2021.0,\"Boston\"],[\"C32089\",15,2019.0,\"Boston\"],[\"E32013\",15,2021.0,\"Boston\"],[\"E32003\",15,2013.0,\"Boston\"],[\"C32020\",17,2014.0,\"Boston\"],[\"C32021\",19,2014.0,\"Boston\"],[\"C32025\",27,2015.0,\"Boston\"],[\"M32062\",25,2019.0,\"Cambridge\"],[\"A32011\",19,2011.0,\"Boston\"],[\"E32006\",18,2013.0,\"Boston\"],[\"D32052\",19,2019.0,\"Boston\"],[\"K32004\",15,2013.0,\"Brookline\"],[\"C32013\",15,2012.0,\"Boston\"],[\"V32013\",11,2020.0,\"Everett\"],[\"M32032\",15,2014.0,\"Cambridge\"],[\"M32004\",23,2016.0,\"Cambridge\"],[\"B32010\",27,2011.0,\"Boston\"],[\"M32065\",19,2019.0,\"Cambridge\"],[\"C32096\",19,2021.0,\"Boston\"],[\"T32006\",11,2021.0,\"Salem\"],[\"M32009\",15,2012.0,\"Cambridge\"],[\"B32015\",15,2011.0,\"Boston\"],[\"N32008\",11,2020.0,\"Newton\"],[\"B32058\",27,2019.0,\"Boston\"],[\"M32001\",19,2012.0,\"Cambridge\"],[\"M32039\",15,2015.0,\"Cambridge\"],[\"D32006\",19,2011.0,\"Boston\"],[\"M32025\",19,2013.0,\"Cambridge\"],[\"L32002\",11,2020.0,\"Arlington\"],[\"A32004\",15,2011.0,\"Boston\"],[\"M32022\",19,2012.0,\"Cambridge\"],[\"S32013\",19,2014.0,\"Somerville\"],[\"D32020\",11,2012.0,\"Boston\"],[\"D32036\",19,2018.0,\"Boston\"],[\"F32001\",11,2022.0,\"Medford\"],[\"D32038\",15,2018.0,\"Boston\"],[\"M32080\",23,2022.0,\"Cambridge\"],[\"G32001\",11,2022.0,\"Malden\"],[\"K32012\",15,2019.0,\"Brookline\"],[\"A32048\",19,2020.0,\"Boston\"],[\"E32012\",16,2020.0,\"Boston\"],[\"M32061\",18,2019.0,\"Cambridge\"],[\"L32006\",11,2021.0,\"Arlington\"],[\"L32003\",11,2020.0,\"Arlington\"],[\"M32056\",19,2018.0,\"Cambridge\"],[\"C32063\",16,2019.0,\"Boston\"],[\"C32004\",14,2011.0,\"Boston\"],[\"C32050\",15,2018.0,\"Boston\"],[\"C32045\",15,2018.0,\"Boston\"],[\"A32030\",33,2016.0,\"Boston\"],[\"A32044\",15,2019.0,\"Boston\"],[\"T32004\",11,2021.0,\"Salem\"],[\"F32002\",11,2022.0,\"Medford\"],[\"D32037\",19,2018.0,\"Boston\"],[\"M32006\",27,2012.0,\"Cambridge\"],[\"M32070\",27,2020.0,\"Cambridge\"],[\"M32071\",27,2020.0,\"Cambridge\"],[\"M32041\",19,2015.0,\"Cambridge\"],[\"M32005\",35,2012.0,\"Cambridge\"],[\"M32042\",25,2015.0,\"Cambridge\"],[\"B32023\",15,2016.0,\"Boston\"],[\"C32103\",15,2021.0,\"Boston\"],[\"C23045\",15,2018.0,\"Boston\"],[\"M32043\",19,2015.0,\"Cambridge\"],[\"C32080\",19,2019.0,\"Boston\"],[\"D32017\",19,2011.0,\"Boston\"],[\"C32023\",19,2014.0,\"Boston\"],[\"M32045\",19,2017.0,\"Cambridge\"],[\"A32025\",36,2016.0,\"Boston\"],[\"B32027\",15,2016.0,\"Boston\"],[\"D32001\",15,2011.0,\"Boston\"],[\"B32000\",23,2011.0,\"Boston\"],[\"C32022\",15,2014.0,\"Boston\"],[\"N32010\",15,2021.0,\"Newton\"],[\"N32013\",13,2021.0,\"Newton\"],[\"W32007\",12,2021.0,\"Watertown\"],[\"N32002\",15,2020.0,\"Newton\"],[\"C32078\",19,2019.0,\"Boston\"],[\"B32012\",15,2011.0,\"Boston\"],[\"G32002\",11,null,\"Malden\"],[\"D32031\",15,2016.0,\"Boston\"],[\"M32076\",15,2021.0,\"Cambridge\"],[\"B32061\",16,2021.0,\"Boston\"],[\"B32036\",15,2018.0,\"Boston\"],[\"M32003\",23,2012.0,\"Cambridge\"],[\"M32002\",19,2012.0,\"Cambridge\"],[\"M32053\",19,2017.0,\"Cambridge\"],[\"A32035\",19,2016.0,\"Boston\"],[\"R32002\",11,2021.0,\"Revere\"],[\"S32009\",15,2013.0,\"Somerville\"],[\"A32012\",27,2011.0,\"Boston\"],[\"A32008\",15,2012.0,\"Boston\"],[\"D32042\",19,2018.0,\"Boston\"],[\"C32039\",15,2018.0,\"Boston\"],[\"S32034\",19,2018.0,\"Somerville\"],[\"C32107\",19,2022.0,\"Boston\"],[\"A32029\",15,2016.0,\"Boston\"],[\"M32029\",19,2013.0,\"Cambridge\"],[\"A32050\",17,2020.0,\"Boston\"],[\"D32012\",19,2011.0,\"Boston\"],[\"S32008\",15,2012.0,\"Somerville\"],[\"C32007\",18,2011.0,\"Boston\"],[\"A32026\",19,2016.0,\"Boston\"],[\"L32001\",11,2020.0,\"Arlington\"],[\"M32079\",19,2022.0,\"Cambridge\"],[\"R32006\",11,2020.0,\"Revere\"],[\"R32007\",11,2020.0,\"Revere\"],[\"M32036\",19,2014.0,\"Cambridge\"],[\"C32058\",15,2018.0,\"Boston\"],[\"M32035\",19,2018.0,\"Cambridge\"],[\"C32097\",12,2021.0,\"Boston\"],[\"C32047\",15,2018.0,\"Boston\"],[\"C32046\",15,2018.0,\"Boston\"],[\"E32014\",19,2022.0,\"Boston\"],[\"D32008\",14,2011.0,\"Boston\"],[\"C32001\",23,2011.0,\"Boston\"],[\"B32022\",10,2016.0,\"Boston\"],[\"B32002\",26,2011.0,\"Boston\"],[\"C32031\",15,2015.0,\"Boston\"],[\"E32007\",15,2015.0,\"Boston\"],[\"T32001\",11,2021.0,\"Salem\"],[\"T32012\",11,2022.0,\"Salem\"],[\"T32005\",13,2021.0,\"Salem\"],[\"T32007\",15,null,\"Salem\"],[\"T32009\",11,2022.0,\"Salem\"],[\"T32002\",15,2021.0,\"Salem\"],[\"C32033\",14,2016.0,\"Boston\"],[\"C32036\",15,2017.0,\"Boston\"],[\"B32014\",19,2011.0,\"Boston\"],[\"B32007\",19,2011.0,\"Boston\"],[\"M32063\",19,2019.0,\"Cambridge\"],[\"D32059\",19,2022.0,\"Boston\"],[\"D32048\",15,2019.0,\"Boston\"],[\"E32009\",19,2019.0,\"Boston\"],[\"T32003\",11,2021.0,\"Salem\"],[\"M32047\",19,2016.0,\"Cambridge\"],[\"D32032\",19,2017.0,\"Boston\"],[\"M32069\",19,2020.0,\"Cambridge\"],[\"A32006\",15,2011.0,\"Boston\"],[\"S32001\",19,2012.0,\"Somerville\"],[\"S32036\",19,2019.0,\"Somerville\"],[\"S32048\",17,2021.0,\"Somerville\"],[\"S32020\",15,2018.0,\"Somerville\"],[\"C32017\",15,2013.0,\"Boston\"],[\"A32009\",15,2011.0,\"Boston\"],[\"A32010\",47,2011.0,\"Boston\"],[\"D32023\",19,2012.0,\"Boston\"],[\"C32087\",19,2019.0,\"Boston\"],[\"K32007\",15,2018.0,\"Brookline\"],[\"B32063\",18,2022.0,\"Boston\"],[\"C32024\",19,2014.0,\"Boston\"],[\"D32041\",19,2018.0,\"Boston\"],[\"D32049\",19,2019.0,\"Boston\"],[\"D32011\",17,2011.0,\"Boston\"],[\"D32053\",19,2019.0,\"Boston\"],[\"R32001\",11,2021.0,\"Revere\"],[\"A32013\",19,2015.0,\"Boston\"],[\"A32042\",27,2019.0,\"Boston\"],[\"V32007\",15,2019.0,\"Everett\"],[\"C32064\",19,2019.0,\"Boston\"],[\"C32043\",3,2018.0,\"Boston\"],[\"K32008\",15,2018.0,\"Brookline\"],[\"S32011\",15,2013.0,\"Somerville\"],[\"E32011\",16,2019.0,\"Boston\"],[\"A32033\",15,2016.0,\"Boston\"],[\"C32028\",19,2015.0,\"Boston\"],[\"D32054\",19,2020.0,\"Boston\"],[\"C32049\",15,2018.0,\"Boston\"],[\"M32048\",15,2016.0,\"Cambridge\"],[\"L32005\",11,2020.0,\"Arlington\"],[\"C32000\",19,2011.0,\"Boston\"],[\"B32056\",19,2018.0,\"Boston\"],[\"C32056\",19,2018.0,\"Boston\"],[\"C32060\",15,2019.0,\"Boston\"],[\"D32014\",15,2011.0,\"Boston\"],[\"C32035\",14,2017.0,\"Boston\"],[\"F32003\",11,2022.0,\"Medford\"],[\"A32001\",19,2011.0,\"Boston\"],[\"S32002\",19,2012.0,\"Somerville\"],[\"S32041\",19,2021.0,\"Somerville\"],[\"N32004\",11,2020.0,\"Newton\"],[\"C32014\",19,2012.0,\"Boston\"],[\"M32040\",19,2015.0,\"Cambridge\"],[\"C32019\",15,2013.0,\"Boston\"],[\"B32025\",15,2016.0,\"Boston\"],[\"A32053\",24,2021.0,\"Boston\"],[\"M32057\",19,2018.0,\"Cambridge\"],[\"M32050\",19,2017.0,\"Cambridge\"],[\"C32029\",23,2015.0,\"Boston\"],[\"C32016\",17,2013.0,\"Boston\"],[\"C32102\",19,2021.0,\"Boston\"],[\"B32030\",15,2016.0,\"Boston\"],[\"D32021\",23,2021.0,\"Boston\"],[\"V32010\",15,2019.0,\"Everett\"],[\"K32011\",15,2019.0,\"Brookline\"],[\"C32042\",15,2018.0,\"Boston\"],[\"D32029\",15,2020.0,\"Boston\"],[\"N32001\",11,2020.0,\"Newton\"],[\"C32081\",19,2020.0,\"Boston\"],[\"A32037\",15,2022.0,\"Boston\"],[\"C32084\",15,2019.0,\"Boston\"],[\"C32005\",15,2011.0,\"Boston\"],[\"B32026\",19,2020.0,\"Boston\"],[\"S32021\",15,2018.0,\"Somerville\"],[\"C32067\",19,2019.0,\"Boston\"],[\"C32006\",27,2011.0,\"Boston\"],[\"C32038\",17,2018.0,\"Boston\"],[\"N32014\",11,2021.0,\"Newton\"],[\"C32083\",19,2019.0,\"Boston\"],[\"D32002\",15,2011.0,\"Boston\"],[\"C32034\",15,2016.0,\"Boston\"],[\"W32002\",15,2020.0,\"Watertown\"],[\"N32006\",11,2020.0,\"Newton\"],[\"W32005\",11,2020.0,\"Watertown\"],[\"V32014\",19,2022.0,\"Everett\"],[\"B32021\",14,2015.0,\"Boston\"],[\"D32022\",35,2012.0,\"Boston\"],[\"N32005\",15,2020.0,\"Newton\"],[\"A32043\",19,2019.0,\"Boston\"],[\"B32059\",19,2019.0,\"Boston\"],[\"D32040\",23,2018.0,\"Boston\"],[\"S32005\",15,2012.0,\"Somerville\"]],\"hovertemplate\":\"<b>%{hovertext}</b><br><br>Latitude=%{lat}<br>Longitude=%{lon}<br>Number=%{customdata[0]}<br>Total docks=%{customdata[1]}<br>Deployment Year=%{customdata[2]}<br>District=%{customdata[3]}<extra></extra>\",\"hovertext\":[\"1200 Beacon St\",\"160 Arsenal\",\"175 N Harvard St\",\"191 Beacon St\",\"2 Hummingbird Lane at Olmsted Green\",\"30 Dane St\",\"359 Broadway - Broadway at Fayette Street\",\"555 Metropolitan Ave\",\"606 American Legion Hwy at Canterbury St\",\"645 Summer St\",\"699 Mt Auburn St\",\"7 Acre Park\",\"700 Commonwealth Ave.\",\"700 Huron Ave\",\"75 Binney St\",\"84 Cambridgepark Dr\",\"855 Broadway\",\"955 Mass Ave\",\"Adams Branch Library\",\"Adams St at Lonsdale St\",\"Addison St at Saratoga St\",\"Airport T Stop - Bremen St at Brooks St\",\"Albany St at E. Brookline St\",\"Alewife MBTA at Steel Place\",\"Alewife Station at Russell Field\",\"American Legion Hwy at Cummins Hwy\",\"American Legion Hwy at Hyde Park Ave\",\"Ames St at Broadway\",\"Ames St at Main St\",\"Andrew T Stop - Dorchester Ave at Dexter St\",\"Aquarium T Stop - 200 Atlantic Ave\",\"Arch St at Franklin St\",\"Archdale Rd at Washington St\",\"Arsenal Yards\",\"Ashmont T Stop\",\"Assembly Square T\",\"Auburndale\",\"B.U. Central - 725 Comm. Ave.\",\"Back Bay T Stop - Dartmouth St at Stuart St\",\"Bacon St at Washington St\",\"Ball Sq\",\"Bartlett St at John Elliot Sq\",\"Beacon at Walnut\",\"Beacon St at Charles St\",\"Beacon St at Massachusetts Ave\",\"Beacon St at Tappan St\",\"Beacon St at Washington / Kirkland\",\"Belgrade Ave at Walworth St\",\"Bellevue T Stop\",\"Bellingham Square\",\"Bennington St at Byron St\",\"Bennington St at Constitution Beach\",\"Berkshire Street at Cambridge Street\",\"Binney St / Sixth St\",\"Blossom St at Charles St\",\"Blue Hill Ave at Almont St\",\"Blue Hill Ave at Havelock St\",\"Blue Hill Ave at Southwood St\",\"Boston City Hall - 28 State St\",\"Boston College T\",\"Boston Convention and Exhibition Center - Summer St at West Side Dr\",\"Boston East - 126 Border St\",\"Boston Landing\",\"Boston Medical Center - E Concord St at Harrison Ave\",\"Bowdoin St at Quincy St\",\"Boylston St at Arlington St\",\"Boylston St at Berkeley St\",\"Boylston St at Dartmouth St\",\"Boylston St at Exeter St\",\"Boylston St at Fairfield St\",\"Boylston St at Jersey St\",\"Boylston St at Massachusetts Ave\",\"Brigham Circle - Francis St at Huntington Ave\",\"Brighton Ave at Linden St\",\"Brighton Center - Washington St at Cambridge St\",\"Brighton Mills - 370 Western Ave\",\"Broad Canal Way at Third Street\",\"Broad St at Central St\",\"Broadway at Beacham St\",\"Broadway at Central St\",\"Broadway at Gerrish Ave\",\"Broadway at Grafton St\",\"Broadway at Lynde St\",\"Broadway at Maple St\",\"Broadway St at Mt Pleasant St\",\"Brookline Town Hall\",\"Brookline Village - Station Street at MBTA\",\"Bunker Hill Community College\",\"Burlington Ave at Brookline Ave\",\"California at Chapel\",\"Cambridge Crossing at North First Street\",\"Cambridge Dept. of Public Works -147 Hampshire St.\",\"Cambridge Main Library at Broadway / Trowbridge St\",\"Cambridge St - at Columbia St / Webster Ave\",\"Cambridge St at Joy St\",\"CambridgeSide Galleria - CambridgeSide PL at Land Blvd\",\"Canal St at Causeway St\",\"Cary Square\",\"Central Ave at River St\",\"Central Sq Post Office / Cambridge City Hall at Mass Ave / Pleasant St\",\"Central Square at Mass Ave / Essex St\",\"Central Square East Boston\",\"Centre St at Commonwealth Ave\",\"Centre St at Parkway YMCA\",\"Centre St at Seaverns Ave\",\"Centre St at W. Roxbury Post Office\",\"Centre St at Washington St\",\"Charles Circle - Charles St at Cambridge St\",\"Charlestown Navy Yard\",\"Chelsea Square\",\"Chelsea St at Vine St\",\"Chelsea Station\",\"Child Street at Brian P. Murphy Staircase\",\"Chinatown Gate Plaza\",\"Chinatown T Stop\",\"Christian Science Plaza - Massachusetts Ave at Westland Ave\",\"Circuit Drive at American Legion Hwy\",\"Clarendon Hill at Broadway\",\"Clarendon St at Newbury St\",\"Cleary Sq\",\"Cleveland Circle\",\"Clinton St at North St\",\"Codman Square Library\",\"Colleges of the Fenway - Fenway at Avenue Louis Pasteur\",\"Columbia Rd at Ceylon St\",\"Columbia Rd at Tierney Community Center\",\"Columbus Ave at W. Canton St\",\"Commonwealth Ave at Agganis Way\",\"Commonwealth Ave At Babcock St\",\"Commonwealth Ave at Chiswick Rd\",\"Commonwealth Ave at Griggs St\",\"Commonwealth Ave at Kelton St\",\"Community Life Center\",\"Community Path at Cedar Street\",\"Community Path at Lowell St\",\"Concord Ave at Spinelli Place\",\"Congress St at Boston City Hall\",\"Congress St at Northern Ave\",\"Congress St at Sleeper St\",\"Conway Park - Somerville Avenue\",\"Coolidge Corner - Beacon St at Centre St\",\"Coolidge Sq.\",\"Copley Square - Dartmouth St at Boylston St\",\"Craigie at Summer St\",\"Cross St at Hanover St\",\"Curtis Hall - South St at Centre St\",\"Cypress St at Clark Playground\",\"Dana Park\",\"Danehy Park\",\"Danehy Park at New Street\",\"Dartmouth St at Newbury St\",\"Davis Square\",\"Day Sq\",\"Deerfield St at Commonwealth Ave\",\"Discovery Park - 30 Acorn Park Drive\",\"Dorchester Ave at Gillette Park\",\"Dudley Square - Bolling Building\",\"Dudley Town Common - Mt Pleasant Ave at Blue Hill Ave\",\"E Cottage St at Columbia Rd\",\"East Boston Neighborhood Health Center - 20 Maverick Square\",\"East Somerville Library (Broadway and Illinois)\",\"Edgerly Education Center\",\"Edwards Playground - Main St at Eden St\",\"EF - North Point Park\",\"Egleston Square - Atherton St at Washington St\",\"Elm St at White St\",\"Encore\",\"Essex St at Dalton Parkway\",\"Everett Square (Broadway at Chelsea St)\",\"Fan Pier\",\"Faneuil St at Arlington St\",\"Farragut Rd at E. 6th St\",\"Fields Corner T Stop\",\"Flat 9 at Whittier\",\"Foley St at Grand Union Blvd\",\"Forest Hills\",\"Forest River Park\",\"Forsyth St at Huntington Ave\",\"Foss Park\",\"Four Corners - 157 Washington St\",\"Franklin Park - Seaver St at Humboldt Ave\",\"Franklin Park Zoo - Franklin Park Rd at Blue Hill Ave\",\"Fresh Pond Reservation\",\"Galileo Galilei Way at Fulkerson St/Binney St\",\"Galileo Galilei Way at Main Street\",\"Gallivan Blvd at Adams St\",\"Geiger Gibson Community Health Center\",\"Gilman Square T at Medford St\",\"Glendale Square (Ferry St at Broadway)\",\"Glendon St at Condor St\",\"Goodhue St at Grove St\",\"Gore Street at Lambert Street\",\"Gove St at Orleans St\",\"Government Center - Cambridge St at Court St\",\"Graham and Parks School ? Linnaean St at Walker St\",\"Green Street T Stop - Green St at Amory St\",\"Grove Hall Library - 41 Geneva Ave\",\"Grove St at Community Path\",\"Hale Park\",\"Harrison Ave at Bennet St\",\"Harrison Ave at E. Dedham St\",\"Harrison Ave at Mullins Way\",\"Harvard Ave at Brainerd Rd\",\"Harvard Kennedy School at Bennett St / Eliot St\",\"Harvard Law School at Mass Ave / Jarvis St\",\"Harvard Square at Brattle St / Eliot St\",\"Harvard Square at Mass Ave/ Dunster\",\"Harvard St and Stedman St\",\"Harvard St at Greene-Rose Heritage Park\",\"Harvard Stadium: N. Harvard St at Soldiers Field Rd\",\"Harvard University / SEAS Cruft-Pierce Halls at 29 Oxford St\",\"Harvard University Gund Hall at Quincy St / Kirkland St\",\"Harvard University Housing - 115 Putnam Ave at Peabody Terrace\",\"Harvard University Radcliffe Quadrangle at Shepard St / Garden St\",\"Harvard University River Houses at DeWolfe St / Cowperthwaite St\",\"Hawthorne Boulevard\",\"Hayes Square - Vine St at Moulton St\",\"High St at Cypress St\",\"HMS/HSPH - Avenue Louis Pasteur at Longwood Ave\",\"Honan Library\",\"Hood Park\",\"Huntington Ave at Mass Art\",\"Huron Ave At Vassal Lane\",\"Hyde Park Ave at Arlington St\",\"Hyde Park Ave at Walk Hill St\",\"Hyde Park Library\",\"Hyde Square - Barbara St at Centre St\",\"ID Building East\",\"ID Building West\",\"Ink Block - Harrison Ave at Herald St\",\"Inman Square at Springfield St.\",\"Innovation Lab - 125 Western Ave at Batten Way\",\"Jackson Square T Stop\",\"Jamaica St at South St\",\"JFK Crossing at Harvard St. / Thorndike St.\",\"JFK/UMass T Stop\",\"Kearins Playground\",\"Kendall Street\",\"Kendall T\",\"Kenmore Square\",\"Kennedy-Longfellow School 158 Spring St\",\"Knoll St at Centre St\",\"Lafayette at Leach St\",\"Lafayette Square at Mass Ave / Main St / Columbia St\",\"Landmark Center - Brookline Ave at Park Dr\",\"Langley Lot\",\"Lansdowne T Stop\",\"Lechmere Station at Cambridge St / First St\",\"Lesley University\",\"Lewis Wharf at Atlantic Ave\",\"Linear Park - Mass. Ave. at Cameron Ave.\",\"Linwood St at Minuteman Bikeway\",\"Longwood Ave at Binney St\",\"Lower Cambridgeport at Magazine St / Riverside Rd\",\"Magoun Square at Trum Field\",\"Main St at Austin St\",\"Main St at Baldwin St\",\"Main St at Brooks Park\",\"Main St at Thompson Sq\",\"Main Street/Albany Street/Technology Square\",\"Malden Center T Station\",\"Marion St at Harvard St\",\"Marion St at White St\",\"Martha Eliot Health Center\",\"Mass Ave at Albany St\",\"Mass Ave at Broadway\",\"Mass Ave at Grafton St\",\"Mass Ave at Hadley/Walden\",\"Mass Ave T Station\",\"Massachusetts Ave at Columbus Ave\",\"Mattapan Library\",\"Mattapan T Stop\",\"Maverick Square - Lewis Mall\",\"Maverick St at Massport Path\",\"Mayor Salvo Path at Mill St\",\"Medford Sq - Riverside Ave at River St\",\"Medford St at Charlestown BCYF\",\"MIT at Mass Ave / Amherst St\",\"MIT Carleton St at Amherst St\",\"MIT Hayward St at Amherst St\",\"MIT Pacific St at Purrington St\",\"MIT Stata Center at Vassar St / Main St\",\"MIT Vassar St\",\"MLK Blvd at Washington St\",\"Morton St at Gallivan Blvd\",\"Morton St T\",\"Mt Auburn\",\"Mt. Hope St at Hyde Park Ave\",\"Mugar Way at Beacon St\",\"Murphy Skating Rink - 1880 Day Blvd\",\"Museum of Science\",\"Nashua Street at Red Auerbach Way\",\"NCAAA - Walnut Ave at Crawford St\",\"New Balance - 20 Guest St\",\"Newbury St at Hereford St\",\"Newmarket Square T Stop - Massachusetts Ave at Newmarket Square\",\"Newton Highlands T\",\"Newton Library\",\"Nichols Ave. at Watertown Greenway\",\"Nonantum Library\",\"Northbourne Rd at Hyde Park Ave\",\"Northeastern University - North Parking Lot\",\"Northern Strand at Main St\",\"Oak Square - 615 Washington St\",\"Old Morse Park at Putnam Ave\",\"One Beacon St\",\"One Brigham Circle\",\"One Broadway / Kendall Sq at Main St / 3rd St\",\"One Kendall Square at Hampshire St / Portland St\",\"One Memorial Drive\",\"Orient Heights T Stop - Bennington St at Saratoga St\",\"Orr Sq (Shirley Ave)\",\"Packard Ave at Powderhouse Blvd\",\"Packard's Corner - Commonwealth Ave at Brighton Ave\",\"Park Dr at Buswell St\",\"Park Plaza at Charles St S.\",\"Park St at Norwell St\",\"Perry Park\",\"Pier 4 Blvd at Autumn Ln\",\"Piers Park\",\"Porter Square Station\",\"Porzio Park\",\"Post Office Square\",\"Powder House Circle - Nathan Tufts Park\",\"Prudential Center - 101 Huntington Ave\",\"Purchase St at Pearl St\",\"Railroad Lot and Minuteman Bikeway\",\"Raymond Park at Walden St\",\"Revere City Hall\",\"Revere Public Library\",\"Rindge Avenue - O'Neill Library\",\"Ring Rd\",\"Rogers St & Land Blvd\",\"Roseland St At Dorchester Ave\",\"Roslindale Village - South St\",\"Roslindale Village - Washington St\",\"Ross Playground\",\"Rowes Wharf at Atlantic Ave\",\"Roxbury Crossing T Stop - Columbus Ave at Tremont St\",\"Roxbury YMCA - Warren St at MLK Blvd\",\"Ruggles T Stop - Columbus Ave at Melnea Cass Blvd\",\"Ryan Playground - Dorchester Ave at Harbor View St\",\"S Huntington Ave at Heath St\",\"Salem Ferry Landing\",\"Salem MBTA - Lower Level\",\"Salem MBTA - Washington at Federal St\",\"Salem State University - Bike Path at Loring Ave\",\"Salem State University - North Campus\",\"Salem Willows Park\",\"Savin Hill T Stop - S Sydney St at Bay St\",\"Seaport Blvd at Sleeper St\",\"Seaport Hotel - Congress St at Seaport Ln\",\"Seaport Square - Seaport Blvd at Northern Ave\",\"Sennott Park Broadway at Norfolk Street\",\"Shawmut Ave at Lenox St\",\"Shawmut Ave at Oak St W\",\"Shawmut T Stop\",\"Shetland Park - Congress at Peabody St\",\"Sidney Research Campus/Erie Street at Waverly\",\"Silber Way\",\"Smith Pl at Wilson Rd\",\"Soldiers Field Park - 111 Western Ave\",\"Somerville City Hall\",\"Somerville City Hall Annex\",\"Somerville High School & Central Library\",\"Somerville Hospital\",\"South Boston Library - 646 E Broadway\",\"South End Library - Tremont St at W Newton St\",\"South Station - 700 Atlantic Ave\",\"Spaulding Rehabilitation Hospital - Charlestown Navy Yard\",\"Spring St at Powell St\",\"St Mary's\",\"St. Alphonsus St at Tremont St\",\"State Street at Channel Center\",\"Stony Brook T Stop\",\"Stuart St at Berkeley St\",\"Stuart St at Charles St\",\"Sullivan Square\",\"Sumner St at Shirley Ave\",\"Surface Rd at India St\",\"Surface Rd at Summer St\",\"Swan St. Park\",\"Sydney St at Carson St\",\"Talbot Ave At Blue Hill Ave\",\"Tappan St at Brookline Hills MBTA\",\"Teele Square\",\"The Dimock Center\",\"The Eddy - New St at Sumner St\",\"The Lawn on D\",\"The Overlook at St. Gabriel's\",\"Thetford Ave at Norfolk St\",\"Third at Binney\",\"Thorndike Field at Minuteman Bikeway\",\"Tremont St at E Berkeley St\",\"Tremont St at Hamilton Pl\",\"Tremont St at Northampton St\",\"Tremont St at W. Dedham St\",\"Tremont St at West St\",\"Troy Boston\",\"Tufts Sq - Main St at Medford St\",\"Union Square - Brighton Ave at Cambridge St\",\"Union Square - Somerville\",\"Union Square East\",\"Union St at Herrick Rd ? Newton Centre Green Line\",\"University of Massachusetts Boston - Campus Center\",\"University Park\",\"Uphams Corner\",\"Uphams Corner T Stop - Magnolia St at Dudley St\",\"Valenti Way at Haverhill St\",\"Vassal Lane at Tobin/VLUS\",\"Verizon Innovation Hub 10 Ware Street\",\"W Broadway at D St\",\"W Broadway at Dorchester St\",\"Walnut Ave at School St\",\"Walnut Ave at Warren St\",\"Warren St at Chelsea St\",\"Wasgott Playground\",\"Washington Sq\",\"Washington St at Bowdoin St\",\"Washington St at Brock St\",\"Washington St at Crafts St\",\"Washington St at Denton Terr\",\"Washington St at Egremont Rd\",\"Washington St at Fuller St\",\"Washington St at Lenox St\",\"Washington St at Melnea Cass Blvd\",\"Washington St at Myrtle St\",\"Washington St at Peters Park\",\"Washington St at Rutland St\",\"Washington St at Talbot Ave\",\"Washington St at Walnut St\",\"Washington St at Walsh Playground\",\"Washington St at Waltham St\",\"Watermark Seaport - Boston Wharf Rd at Seaport Blvd\",\"Watertown Sq\",\"Watertown St at Albemarle Rd\",\"Watertown Town Hall\",\"Wellington MBTA\",\"Wentworth Institute of Technology - Huntington Ave at Vancouver St\",\"West End Park\",\"West Newton\",\"Western Ave at Richardson St\",\"Whittier St Health Center\",\"Williams St at Washington St\",\"Wilson Square\"],\"lat\":[42.34414899,42.36466403,42.363796,42.38032335,42.28887,42.38100143,42.370803,42.2681,42.28578,42.34178089,42.37500235,42.41143223,42.34960945,42.38078817,42.36550729,42.3936,42.39841773,42.36895181,42.286011,42.29167943,42.38518147,42.37534193,42.33664795,42.39558846,42.396105,42.27881158,42.27265394,42.3636929,42.3625,42.33073333,42.35991176,42.35533502,42.29266593,42.36277389,42.2856944,42.39223284,42.34805541,42.350406,42.34807412,42.35711921,42.39920336,42.3294633,42.33006232,42.356052,42.35082681,42.3382668,42.37875351,42.28634589,42.28611421,42.39319611,42.38353252,42.38522394,42.37207658,42.36608797,42.36435589,42.27462067,42.286012,42.31786021,42.35892,42.33987892,42.34776345,42.37331213,42.35656092,42.33639915,42.30785224,42.35200961,42.35114198,42.3501932,42.34958942,42.34908155,42.34465063,42.34740621,42.33462893,42.3528376,42.34894857,42.36154571,42.3630455,42.35849449,42.3983606,42.3951715,42.39453079,42.40994213,42.39648358,42.41034691,42.38614141,42.33376473,42.33274392,42.37408991,42.345733,42.36514871,42.371141,42.37119728,42.373379,42.372969,42.36125722,42.36707407,42.36530095,42.39813565,42.27094707,42.366426,42.36507,42.37544913,42.3362358,42.28277901,42.3121203,42.28633199,42.35574335,42.36079297,42.37412455,42.39022671,42.40328057,42.39636528,42.37197678,42.351356,42.352409,42.34366582,42.29704126,42.406302,42.35159662,42.2556,42.33554308,42.36070284,42.2873611,42.34011512,42.309572,42.33023071,42.34474225,42.35169202,42.35154735,42.34024645,42.34922469,42.34835863,42.520136,42.39407224,42.392525,42.390719,42.36041775,42.3481,42.3510045,42.38363895,42.341598,42.37207611,42.34992828,42.38831608,42.362811,42.309054,42.32784317,42.36178044,42.388966,42.389456,42.35096144,42.396969,42.379295,42.34924377,42.39790817,42.34404051,42.32984299,42.325333,42.320561,42.369536,42.38762811,42.38717463,42.378965,42.369885,42.315692,42.38952436,42.39329263,42.516223,42.40695679,42.35339051,42.35276621,42.3334,42.29963349,42.33420351,42.3930184,42.300923,42.506395,42.339202,42.39108438,42.30412793,42.309796,42.303469,42.38267828,42.3664204,42.36300378,42.28297568,42.31886468,42.3867355,42.41427294,42.38240378,42.520897,42.3730798,42.37057753,42.3598254,42.3829443,42.310579,42.30791,42.39638681,42.4206487,42.3494261,42.339194,42.34521562,42.34953017,42.3722168,42.379011,42.3733288,42.373268,42.34435176,42.36599433,42.368019,42.377945,42.376369,42.366621,42.380287,42.36923907,42.5223714,42.377022,42.32464511,42.33741748,42.3602737,42.38004535,42.33658555,42.38165061,42.26286746,42.29606705,42.2568376,42.32176526,42.344827,42.344796,42.345901,42.37426714,42.36371276,42.32293117,42.30604563,42.34655124,42.32033974,42.40616124,42.36356016,42.36242784,42.348706,42.36955298,42.29376656,42.51142784,42.36346469,42.34369056,42.330528,42.34734473,42.370677,42.38674802,42.363871,42.397828,42.40935396,42.338629,42.3572185,42.3977834,42.375603,42.380857,42.411709,42.37487847,42.3629016,42.426541,42.34012243,42.38066931,42.324173,42.36135838,42.41420213,42.40726052,42.39120972,42.34135616,42.340814,42.2773889,42.267902,42.36884408,42.36774122,42.5180352,42.417724,42.38042947,42.3581,42.36054174,42.36085937,42.3595732,42.36213123,42.35560121,42.32143814,42.278747,42.28072514,42.37478629,42.28484472,42.35553628,42.336448,42.36769018,42.365673,42.316902,42.35732922,42.348717,42.326599,42.32206566,42.33620337,42.36762049,42.36068456,42.29118035,42.341814,42.42386,42.35057,42.35766248,42.35847764,42.3339227,42.36224179,42.366277,42.36161932,42.386781,42.40715656,42.40449,42.352261,42.347241,42.35182807,42.29442579,42.37927325,42.3502102,42.3650112,42.387995,42.36411904,42.35585436,42.400877,42.34652004,42.354659,42.41606457,42.38736954,42.40741,42.408088,42.392766,42.34827839,42.36644674,42.29116853,42.287072,42.28630716,42.2645666,42.357143,42.331184,42.31787329,42.33624445,42.317642,42.32760387,42.52189284,42.523994,42.52345239,42.50182399,42.503332,42.53466911,42.3106,42.35317809,42.34881026,42.35148193,42.36860524,42.33584613,42.34854543,42.292917,42.51836788,42.35775309,42.349496,42.39239749,42.36426344,42.386844,42.39189812,42.3864,42.39044622,42.335741,42.341332,42.352175,42.378338,42.27748444,42.34619708,42.33329255,42.344137,42.316966,42.34954403,42.351146,42.38445226,42.40833706,42.358155,42.3529457,42.41250451,42.32039374,42.2945833,42.33137017,42.40231703,42.31930943,42.370744,42.344792,42.34679008,42.28621295,42.36544486,42.40016805,42.345392,42.35668335,42.3384318,42.34254914,42.354979,42.343749,42.401697,42.353334,42.3796479,42.380078,42.32956868,42.31218918,42.36264779,42.31727474,42.31869734,42.36473899,42.38536765,42.37250865,42.3391085,42.33595898,42.31242399,42.324081,42.371848,42.40933007,42.33985827,42.29916498,42.34895285,42.35389024,42.28072815,42.34286835,42.28198628,42.33509899,42.332817,42.3817508,42.34303291,42.3385146,42.290333,42.35145812,42.2771947,42.34157472,42.351586,42.36526032,42.35410408,42.367621,42.4023682,42.33758601,42.36590788,42.3496005,42.36178741,42.33286288,42.306539,42.38567579],\"legendgroup\":\"\",\"lon\":[-71.11467361,-71.17569387,-71.129164,-71.10878613,-71.095003,-71.10402523,-71.104412,-71.11924,-71.109725,-71.03987017,-71.14871614,-71.06823265,-71.10391524,-71.15412891,-71.0801376,-71.143941,-71.02390923,-71.1099878,-71.054689,-71.05726346,-71.0151367,-71.0312891,-71.0689446,-71.14260614,-71.139459,-71.11687703,-71.11990392,-71.0875672,-71.08822,-71.05699851,-71.05142981,-71.05822917,-71.12119539,-71.15764854,-71.0641389,-71.07746601,-71.24775946,-71.108279,-71.07657015,-71.18604537,-71.11102236,-71.0901582,-71.20668411,-71.069849,-71.08981088,-71.13894682,-71.10707223,-71.1367213,-71.14636928,-71.0334456,-71.01619095,-71.01063069,-71.08995434,-71.08633604,-71.06959369,-71.09372552,-71.090986,-71.07798629,-71.057629,-71.16708934,-71.04535997,-71.04102008,-71.14167538,-71.07306711,-71.06512249,-71.07060295,-71.07329249,-71.07744187,-71.07946779,-71.08192384,-71.09732501,-71.08678415,-71.10407918,-71.1296752,-71.15027189,-71.13776207,-71.08287079,-71.0542647,-71.06373843,-71.09850592,-71.03085594,-71.1400932,-71.0654676,-71.05260458,-71.0782814,-71.12046447,-71.11626681,-71.06905997,-71.100694,-71.20236039,-71.076198,-71.09759867,-71.111075,-71.094445,-71.06528744,-71.07679278,-71.06092191,-71.03070972,-71.07337901,-71.105495,-71.1031,-71.03918549,-71.1934421,-71.15728851,-71.1142981,-71.15344755,-71.18641943,-71.07118962,-71.054812,-71.03857018,-71.0476264,-71.03987179,-71.07200496,-71.059367,-71.062679,-71.08582377,-71.09171927,-71.132446,-71.07561663,-71.12444,-71.1506152,-71.05524927,-71.071111,-71.10061884,-71.0729,-71.05060093,-71.07648162,-71.11903489,-71.12126246,-71.15168806,-71.13275303,-71.13997217,-70.906271,-71.11133695,-71.105587,-71.1538877,-71.05752244,-71.03764,-71.04930013,-71.10853672,-71.123338,-71.15683131,-71.07739207,-71.11068249,-71.056067,-71.11543,-71.12536222,-71.10809952,-71.132788,-71.139019,-71.07782811,-71.123024,-71.027733,-71.0972821,-71.14797131,-71.05737627,-71.08386572,-71.075354,-71.06198,-71.039431,-71.08318716,-71.08714389,-71.068607,-71.069957,-71.098634,-71.1169414,-71.0724476,-70.905535,-71.0565029,-71.0445714,-71.15988486,-71.02495,-71.06068976,-71.08767617,-71.08071685,-71.114249,-70.88693,-71.090511,-71.09039426,-71.07929528,-71.092225,-71.085347,-71.14347895,-71.0885418,-71.08974038,-71.05466698,-71.04536798,-71.0946444,-71.04479656,-71.03024304,-70.910528,-71.08634234,-71.0355854,-71.05979576,-71.12449831,-71.107341,-71.080952,-71.12011306,-71.0437126,-71.0620996,-71.06975,-71.06384031,-71.13022771,-71.12188071,-71.119945,-71.12098601,-71.118579,-71.12490356,-71.09522222,-71.1242,-71.116865,-71.114025,-71.114214,-71.125107,-71.11687034,-70.8903331,-71.056605,-71.12135231,-71.10286117,-71.12852452,-71.07304573,-71.09886996,-71.13426981,-71.12163126,-71.116012,-71.122509,-71.10984161,-71.028664,-71.031614,-71.063187,-71.10026479,-71.12459779,-71.10014141,-71.11570891,-71.12833211,-71.05118036,-71.06041655,-71.08216792,-71.08495474,-71.097009,-71.08579015,-71.1365658,-70.89183301,-71.10057324,-71.10235287,-71.192861,-71.10016808,-71.076529,-71.11901879,-71.050877,-71.130516,-71.14906519,-71.1065,-71.11387163,-71.10594004,-71.064608,-71.070629,-71.110444,-71.06383499,-71.0915669,-71.073179,-71.12070564,-71.03907316,-71.10196,-71.09670274,-71.15051883,-71.14382132,-71.12260755,-71.08336953,-71.0816197,-71.09325,-71.093641,-71.03977829,-71.03335975,-70.89570075,-71.108102,-71.06055722,-71.093198,-71.08669817,-71.08551858,-71.10129476,-71.09115601,-71.10394478,-71.09126061,-71.080286,-71.08617242,-71.13320231,-71.11874517,-71.0728687,-71.023739,-71.07116282,-71.064263,-71.091946,-71.1467354,-71.085954,-71.066498,-71.20637298,-71.20779455,-71.15656637,-71.201462,-71.11773666,-71.090179,-71.067793,-71.166491,-71.10841334,-71.0613513,-71.10446509,-71.08311072,-71.09169,-71.08043551,-71.006098,-70.9927243,-71.123413,-71.123831,-71.105301,-71.06781138,-71.07821761,-71.10341903,-71.0446705,-71.03528559,-71.119084,-71.02876782,-71.05459746,-71.116772,-71.08065777,-71.053181,-71.15336637,-71.12761001,-71.0139,-71.008942,-71.129042,-71.08044855,-71.07654601,-71.0630089,-71.127754,-71.12820532,-71.1145523,-71.050699,-71.095171,-71.08243078,-71.08798563,-71.056664,-71.1108917,-70.88069111,-70.89684,-70.89611113,-70.89478076,-70.891444,-70.8702144,-71.0539,-71.04817357,-71.04167744,-71.04436085,-71.09930186,-71.08038157,-71.06559185,-71.06575,-70.88952363,-71.10393405,-71.10057592,-71.15058332,-71.1182757,-71.09812,-71.09745376,-71.09601,-71.10856622,-71.03877,-71.076847,-71.055547,-71.048927,-71.16341468,-71.10728681,-71.10124648,-71.052608,-71.104374,-71.07242074,-71.066289,-71.07514855,-70.99804848,-71.052163,-71.05656401,-71.05842225,-71.05355408,-71.087111,-71.12688361,-71.12671129,-71.09639924,-71.044201,-71.044024,-71.14549814,-71.07942931,-71.08277142,-71.14456963,-71.069616,-71.06166646,-71.0816905,-71.07421449,-71.063348,-71.062256,-71.106128,-71.137313,-71.09540476,-71.090098,-71.19367272,-71.03648586,-71.10006094,-71.06537004,-71.06978148,-71.05934903,-71.13775671,-71.11305356,-71.0514432,-71.046229,-71.09616905,-71.083235,-71.060292,-71.06381878,-71.13421171,-71.07345872,-71.16031677,-71.19943707,-71.13423757,-71.14127841,-71.07147925,-71.07903779,-71.081198,-71.0839523,-71.0668873,-71.07404083,-71.071806,-71.20764971,-71.06955614,-71.0689044,-71.04569256,-71.18573324,-71.21382214,-71.187936,-71.07573182,-71.09627098,-71.06446669,-71.22627497,-71.14393111,-71.09218862,-71.107669,-71.11412136],\"marker\":{\"color\":\"fuchsia\"},\"mode\":\"markers\",\"name\":\"\",\"showlegend\":false,\"subplot\":\"mapbox\",\"type\":\"scattermapbox\"}],                        {\"template\":{\"data\":{\"histogram2dcontour\":[{\"type\":\"histogram2dcontour\",\"colorbar\":{\"outlinewidth\":0,\"ticks\":\"\"},\"colorscale\":[[0.0,\"#0d0887\"],[0.1111111111111111,\"#46039f\"],[0.2222222222222222,\"#7201a8\"],[0.3333333333333333,\"#9c179e\"],[0.4444444444444444,\"#bd3786\"],[0.5555555555555556,\"#d8576b\"],[0.6666666666666666,\"#ed7953\"],[0.7777777777777778,\"#fb9f3a\"],[0.8888888888888888,\"#fdca26\"],[1.0,\"#f0f921\"]]}],\"choropleth\":[{\"type\":\"choropleth\",\"colorbar\":{\"outlinewidth\":0,\"ticks\":\"\"}}],\"histogram2d\":[{\"type\":\"histogram2d\",\"colorbar\":{\"outlinewidth\":0,\"ticks\":\"\"},\"colorscale\":[[0.0,\"#0d0887\"],[0.1111111111111111,\"#46039f\"],[0.2222222222222222,\"#7201a8\"],[0.3333333333333333,\"#9c179e\"],[0.4444444444444444,\"#bd3786\"],[0.5555555555555556,\"#d8576b\"],[0.6666666666666666,\"#ed7953\"],[0.7777777777777778,\"#fb9f3a\"],[0.8888888888888888,\"#fdca26\"],[1.0,\"#f0f921\"]]}],\"heatmap\":[{\"type\":\"heatmap\",\"colorbar\":{\"outlinewidth\":0,\"ticks\":\"\"},\"colorscale\":[[0.0,\"#0d0887\"],[0.1111111111111111,\"#46039f\"],[0.2222222222222222,\"#7201a8\"],[0.3333333333333333,\"#9c179e\"],[0.4444444444444444,\"#bd3786\"],[0.5555555555555556,\"#d8576b\"],[0.6666666666666666,\"#ed7953\"],[0.7777777777777778,\"#fb9f3a\"],[0.8888888888888888,\"#fdca26\"],[1.0,\"#f0f921\"]]}],\"heatmapgl\":[{\"type\":\"heatmapgl\",\"colorbar\":{\"outlinewidth\":0,\"ticks\":\"\"},\"colorscale\":[[0.0,\"#0d0887\"],[0.1111111111111111,\"#46039f\"],[0.2222222222222222,\"#7201a8\"],[0.3333333333333333,\"#9c179e\"],[0.4444444444444444,\"#bd3786\"],[0.5555555555555556,\"#d8576b\"],[0.6666666666666666,\"#ed7953\"],[0.7777777777777778,\"#fb9f3a\"],[0.8888888888888888,\"#fdca26\"],[1.0,\"#f0f921\"]]}],\"contourcarpet\":[{\"type\":\"contourcarpet\",\"colorbar\":{\"outlinewidth\":0,\"ticks\":\"\"}}],\"contour\":[{\"type\":\"contour\",\"colorbar\":{\"outlinewidth\":0,\"ticks\":\"\"},\"colorscale\":[[0.0,\"#0d0887\"],[0.1111111111111111,\"#46039f\"],[0.2222222222222222,\"#7201a8\"],[0.3333333333333333,\"#9c179e\"],[0.4444444444444444,\"#bd3786\"],[0.5555555555555556,\"#d8576b\"],[0.6666666666666666,\"#ed7953\"],[0.7777777777777778,\"#fb9f3a\"],[0.8888888888888888,\"#fdca26\"],[1.0,\"#f0f921\"]]}],\"surface\":[{\"type\":\"surface\",\"colorbar\":{\"outlinewidth\":0,\"ticks\":\"\"},\"colorscale\":[[0.0,\"#0d0887\"],[0.1111111111111111,\"#46039f\"],[0.2222222222222222,\"#7201a8\"],[0.3333333333333333,\"#9c179e\"],[0.4444444444444444,\"#bd3786\"],[0.5555555555555556,\"#d8576b\"],[0.6666666666666666,\"#ed7953\"],[0.7777777777777778,\"#fb9f3a\"],[0.8888888888888888,\"#fdca26\"],[1.0,\"#f0f921\"]]}],\"mesh3d\":[{\"type\":\"mesh3d\",\"colorbar\":{\"outlinewidth\":0,\"ticks\":\"\"}}],\"scatter\":[{\"fillpattern\":{\"fillmode\":\"overlay\",\"size\":10,\"solidity\":0.2},\"type\":\"scatter\"}],\"parcoords\":[{\"type\":\"parcoords\",\"line\":{\"colorbar\":{\"outlinewidth\":0,\"ticks\":\"\"}}}],\"scatterpolargl\":[{\"type\":\"scatterpolargl\",\"marker\":{\"colorbar\":{\"outlinewidth\":0,\"ticks\":\"\"}}}],\"bar\":[{\"error_x\":{\"color\":\"#2a3f5f\"},\"error_y\":{\"color\":\"#2a3f5f\"},\"marker\":{\"line\":{\"color\":\"#E5ECF6\",\"width\":0.5},\"pattern\":{\"fillmode\":\"overlay\",\"size\":10,\"solidity\":0.2}},\"type\":\"bar\"}],\"scattergeo\":[{\"type\":\"scattergeo\",\"marker\":{\"colorbar\":{\"outlinewidth\":0,\"ticks\":\"\"}}}],\"scatterpolar\":[{\"type\":\"scatterpolar\",\"marker\":{\"colorbar\":{\"outlinewidth\":0,\"ticks\":\"\"}}}],\"histogram\":[{\"marker\":{\"pattern\":{\"fillmode\":\"overlay\",\"size\":10,\"solidity\":0.2}},\"type\":\"histogram\"}],\"scattergl\":[{\"type\":\"scattergl\",\"marker\":{\"colorbar\":{\"outlinewidth\":0,\"ticks\":\"\"}}}],\"scatter3d\":[{\"type\":\"scatter3d\",\"line\":{\"colorbar\":{\"outlinewidth\":0,\"ticks\":\"\"}},\"marker\":{\"colorbar\":{\"outlinewidth\":0,\"ticks\":\"\"}}}],\"scattermapbox\":[{\"type\":\"scattermapbox\",\"marker\":{\"colorbar\":{\"outlinewidth\":0,\"ticks\":\"\"}}}],\"scatterternary\":[{\"type\":\"scatterternary\",\"marker\":{\"colorbar\":{\"outlinewidth\":0,\"ticks\":\"\"}}}],\"scattercarpet\":[{\"type\":\"scattercarpet\",\"marker\":{\"colorbar\":{\"outlinewidth\":0,\"ticks\":\"\"}}}],\"carpet\":[{\"aaxis\":{\"endlinecolor\":\"#2a3f5f\",\"gridcolor\":\"white\",\"linecolor\":\"white\",\"minorgridcolor\":\"white\",\"startlinecolor\":\"#2a3f5f\"},\"baxis\":{\"endlinecolor\":\"#2a3f5f\",\"gridcolor\":\"white\",\"linecolor\":\"white\",\"minorgridcolor\":\"white\",\"startlinecolor\":\"#2a3f5f\"},\"type\":\"carpet\"}],\"table\":[{\"cells\":{\"fill\":{\"color\":\"#EBF0F8\"},\"line\":{\"color\":\"white\"}},\"header\":{\"fill\":{\"color\":\"#C8D4E3\"},\"line\":{\"color\":\"white\"}},\"type\":\"table\"}],\"barpolar\":[{\"marker\":{\"line\":{\"color\":\"#E5ECF6\",\"width\":0.5},\"pattern\":{\"fillmode\":\"overlay\",\"size\":10,\"solidity\":0.2}},\"type\":\"barpolar\"}],\"pie\":[{\"automargin\":true,\"type\":\"pie\"}]},\"layout\":{\"autotypenumbers\":\"strict\",\"colorway\":[\"#636efa\",\"#EF553B\",\"#00cc96\",\"#ab63fa\",\"#FFA15A\",\"#19d3f3\",\"#FF6692\",\"#B6E880\",\"#FF97FF\",\"#FECB52\"],\"font\":{\"color\":\"#2a3f5f\"},\"hovermode\":\"closest\",\"hoverlabel\":{\"align\":\"left\"},\"paper_bgcolor\":\"white\",\"plot_bgcolor\":\"#E5ECF6\",\"polar\":{\"bgcolor\":\"#E5ECF6\",\"angularaxis\":{\"gridcolor\":\"white\",\"linecolor\":\"white\",\"ticks\":\"\"},\"radialaxis\":{\"gridcolor\":\"white\",\"linecolor\":\"white\",\"ticks\":\"\"}},\"ternary\":{\"bgcolor\":\"#E5ECF6\",\"aaxis\":{\"gridcolor\":\"white\",\"linecolor\":\"white\",\"ticks\":\"\"},\"baxis\":{\"gridcolor\":\"white\",\"linecolor\":\"white\",\"ticks\":\"\"},\"caxis\":{\"gridcolor\":\"white\",\"linecolor\":\"white\",\"ticks\":\"\"}},\"coloraxis\":{\"colorbar\":{\"outlinewidth\":0,\"ticks\":\"\"}},\"colorscale\":{\"sequential\":[[0.0,\"#0d0887\"],[0.1111111111111111,\"#46039f\"],[0.2222222222222222,\"#7201a8\"],[0.3333333333333333,\"#9c179e\"],[0.4444444444444444,\"#bd3786\"],[0.5555555555555556,\"#d8576b\"],[0.6666666666666666,\"#ed7953\"],[0.7777777777777778,\"#fb9f3a\"],[0.8888888888888888,\"#fdca26\"],[1.0,\"#f0f921\"]],\"sequentialminus\":[[0.0,\"#0d0887\"],[0.1111111111111111,\"#46039f\"],[0.2222222222222222,\"#7201a8\"],[0.3333333333333333,\"#9c179e\"],[0.4444444444444444,\"#bd3786\"],[0.5555555555555556,\"#d8576b\"],[0.6666666666666666,\"#ed7953\"],[0.7777777777777778,\"#fb9f3a\"],[0.8888888888888888,\"#fdca26\"],[1.0,\"#f0f921\"]],\"diverging\":[[0,\"#8e0152\"],[0.1,\"#c51b7d\"],[0.2,\"#de77ae\"],[0.3,\"#f1b6da\"],[0.4,\"#fde0ef\"],[0.5,\"#f7f7f7\"],[0.6,\"#e6f5d0\"],[0.7,\"#b8e186\"],[0.8,\"#7fbc41\"],[0.9,\"#4d9221\"],[1,\"#276419\"]]},\"xaxis\":{\"gridcolor\":\"white\",\"linecolor\":\"white\",\"ticks\":\"\",\"title\":{\"standoff\":15},\"zerolinecolor\":\"white\",\"automargin\":true,\"zerolinewidth\":2},\"yaxis\":{\"gridcolor\":\"white\",\"linecolor\":\"white\",\"ticks\":\"\",\"title\":{\"standoff\":15},\"zerolinecolor\":\"white\",\"automargin\":true,\"zerolinewidth\":2},\"scene\":{\"xaxis\":{\"backgroundcolor\":\"#E5ECF6\",\"gridcolor\":\"white\",\"linecolor\":\"white\",\"showbackground\":true,\"ticks\":\"\",\"zerolinecolor\":\"white\",\"gridwidth\":2},\"yaxis\":{\"backgroundcolor\":\"#E5ECF6\",\"gridcolor\":\"white\",\"linecolor\":\"white\",\"showbackground\":true,\"ticks\":\"\",\"zerolinecolor\":\"white\",\"gridwidth\":2},\"zaxis\":{\"backgroundcolor\":\"#E5ECF6\",\"gridcolor\":\"white\",\"linecolor\":\"white\",\"showbackground\":true,\"ticks\":\"\",\"zerolinecolor\":\"white\",\"gridwidth\":2}},\"shapedefaults\":{\"line\":{\"color\":\"#2a3f5f\"}},\"annotationdefaults\":{\"arrowcolor\":\"#2a3f5f\",\"arrowhead\":0,\"arrowwidth\":1},\"geo\":{\"bgcolor\":\"white\",\"landcolor\":\"#E5ECF6\",\"subunitcolor\":\"white\",\"showland\":true,\"showlakes\":true,\"lakecolor\":\"white\"},\"title\":{\"x\":0.05},\"mapbox\":{\"style\":\"light\"}}},\"mapbox\":{\"domain\":{\"x\":[0.0,1.0],\"y\":[0.0,1.0]},\"center\":{\"lat\":42.35781426449438,\"lon\":-71.08743413069664},\"zoom\":12,\"style\":\"open-street-map\"},\"legend\":{\"tracegroupgap\":0},\"margin\":{\"t\":0,\"r\":0,\"l\":0,\"b\":0},\"height\":900},                        {\"responsive\": true}                    ).then(function(){\n",
       "                            \n",
       "var gd = document.getElementById('f3e05f47-3caf-46eb-9dd9-e059217d3a27');\n",
       "var x = new MutationObserver(function (mutations, observer) {{\n",
       "        var display = window.getComputedStyle(gd).display;\n",
       "        if (!display || display === 'none') {{\n",
       "            console.log([gd, 'removed!']);\n",
       "            Plotly.purge(gd);\n",
       "            observer.disconnect();\n",
       "        }}\n",
       "}});\n",
       "\n",
       "// Listen for the removal of the full notebook cells\n",
       "var notebookContainer = gd.closest('#notebook-container');\n",
       "if (notebookContainer) {{\n",
       "    x.observe(notebookContainer, {childList: true});\n",
       "}}\n",
       "\n",
       "// Listen for the clearing of the current output cell\n",
       "var outputEl = gd.closest('.output');\n",
       "if (outputEl) {{\n",
       "    x.observe(outputEl, {childList: true});\n",
       "}}\n",
       "\n",
       "                        })                };                });            </script>        </div>"
      ]
     },
     "metadata": {},
     "output_type": "display_data"
    }
   ],
   "source": [
    "# Plot a map of the stations\n",
    "fig = px.scatter_mapbox(stations_df, lat=\"Latitude\", lon=\"Longitude\", hover_name=\"Name\", hover_data=[\"Number\", \"Total docks\", \"Deployment Year\", \"District\"], color_discrete_sequence=[\"fuchsia\"], zoom=12, height=900)\n",
    "fig.update_layout(mapbox_style=\"open-street-map\")\n",
    "fig.update_layout(margin={\"r\":0,\"t\":0,\"l\":0,\"b\":0})\n",
    "fig.show()"
   ]
  },
  {
   "cell_type": "code",
   "execution_count": null,
   "id": "216e93e3",
   "metadata": {},
   "outputs": [],
   "source": []
  }
 ],
 "metadata": {
  "kernelspec": {
   "display_name": "Python 3 (ipykernel)",
   "language": "python",
   "name": "python3"
  },
  "language_info": {
   "codemirror_mode": {
    "name": "ipython",
    "version": 3
   },
   "file_extension": ".py",
   "mimetype": "text/x-python",
   "name": "python",
   "nbconvert_exporter": "python",
   "pygments_lexer": "ipython3",
   "version": "3.8.10"
  }
 },
 "nbformat": 4,
 "nbformat_minor": 5
}
